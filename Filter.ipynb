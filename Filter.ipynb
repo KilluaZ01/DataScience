{
  "nbformat": 4,
  "nbformat_minor": 0,
  "metadata": {
    "colab": {
      "provenance": []
    },
    "kernelspec": {
      "name": "python3",
      "display_name": "Python 3"
    },
    "language_info": {
      "name": "python"
    }
  },
  "cells": [
    {
      "cell_type": "code",
      "execution_count": 7,
      "metadata": {
        "colab": {
          "base_uri": "https://localhost:8080/"
        },
        "id": "VThzZlOoeFtn",
        "outputId": "82c12b8f-ee08-4705-f323-6a8d447af57e"
      },
      "outputs": [
        {
          "output_type": "stream",
          "name": "stdout",
          "text": [
            "[2, 4, 6]\n"
          ]
        }
      ],
      "source": [
        "# WAP that filters the even number from the list into the new list\n",
        "\n",
        "def even_number(lst):\n",
        "  lst1 = []\n",
        "\n",
        "  for i in lst:\n",
        "    if i % 2 == 0:\n",
        "      lst1.append(i)\n",
        "\n",
        "  print(lst1)\n",
        "\n",
        "def even_number1(lst):\n",
        "  lst1 =[]\n",
        "  i = 0\n",
        "  while i < len(lst):\n",
        "    if lst[i] % 2 == 0:\n",
        "      lst1.append(lst[i])\n",
        "    i += 1\n",
        "\n",
        "  print(lst1)\n",
        "\n",
        "lst = [1,2,3,4,5,6]\n",
        "even_number1(lst)"
      ]
    },
    {
      "cell_type": "code",
      "source": [
        "def even_number(lst):\n",
        "  if lst % 2 == 0:\n",
        "    return lst\n",
        "\n",
        "lst = [1,2,3,4,5,6]\n",
        "\n",
        "new_lst = list(map(even_number, lst))\n",
        "\n",
        "def remove(new_lst1):\n",
        "  if new_lst1 == None:\n",
        "    new_lst.remove(None)\n",
        "\n",
        "list(map(remove, new_lst))\n",
        "print(new_lst)\n",
        "\n",
        "print([i for i in lst if i % 2 == 0])"
      ],
      "metadata": {
        "colab": {
          "base_uri": "https://localhost:8080/"
        },
        "id": "aLUFMo_hgP4U",
        "outputId": "801a9ce0-5d97-4fc1-d666-d5cccf4c4e85"
      },
      "execution_count": 70,
      "outputs": [
        {
          "output_type": "stream",
          "name": "stdout",
          "text": [
            "[2, 4, 6]\n",
            "[2, 4, 6]\n"
          ]
        }
      ]
    },
    {
      "cell_type": "code",
      "source": [
        "def only_even(li):\n",
        "  return li % 2 == 0\n",
        "\n",
        "my_list = [1,2,3,4,5,6]\n",
        "print(list(filter(only_even, my_list)))"
      ],
      "metadata": {
        "colab": {
          "base_uri": "https://localhost:8080/"
        },
        "id": "-8u-dEM_myeu",
        "outputId": "d95a44ef-cff4-4d62-d06f-0ffc38cd067f"
      },
      "execution_count": 72,
      "outputs": [
        {
          "output_type": "stream",
          "name": "stdout",
          "text": [
            "[2, 4, 6]\n"
          ]
        }
      ]
    },
    {
      "cell_type": "code",
      "source": [
        "# Zip\n",
        "\n",
        "my_list = [1,2,3,4,5]\n",
        "your_list = [6,7,8,9,'ram']\n",
        "\n",
        "print(list(zip(my_list, your_list)))"
      ],
      "metadata": {
        "colab": {
          "base_uri": "https://localhost:8080/"
        },
        "id": "DEphYdFVm9Vn",
        "outputId": "76047904-7b37-4d73-9ade-e7fd50be13dc"
      },
      "execution_count": 92,
      "outputs": [
        {
          "output_type": "stream",
          "name": "stdout",
          "text": [
            "[(1, 6), (2, 7), (3, 8), (4, 9), (5, 'ram')]\n"
          ]
        }
      ]
    },
    {
      "cell_type": "code",
      "source": [
        "print(list(zip(['ram','shyam'], ['sita', 'radha'])))"
      ],
      "metadata": {
        "colab": {
          "base_uri": "https://localhost:8080/"
        },
        "id": "F0cUHCiGnS-l",
        "outputId": "15eb397a-5434-4e70-e958-124b166e6943"
      },
      "execution_count": 74,
      "outputs": [
        {
          "output_type": "stream",
          "name": "stdout",
          "text": [
            "[('ram', 'sita'), ('shyam', 'radha')]\n"
          ]
        }
      ]
    },
    {
      "cell_type": "code",
      "source": [
        "# my_list = [1,2,3,4,5]\n",
        "# your_list = [6,7,8,9,'ram']\n",
        "# new_array = []\n",
        "\n",
        "# for i in my_list:\n",
        "#   for j in your_list:\n",
        "#     # new_array.append(tuple(j))\n",
        "\n",
        "# # print(new_array)"
      ],
      "metadata": {
        "id": "K-uDwPZpnbHH"
      },
      "execution_count": 83,
      "outputs": []
    },
    {
      "cell_type": "code",
      "source": [
        "# Reduce\n",
        "\n",
        "from functools import reduce\n",
        "my_list = [2,3,4,5]\n",
        "\n",
        "def accumulator(acc, item):\n",
        "  print(acc,item)\n",
        "  return acc + item\n",
        "\n",
        "print(reduce(accumulator, my_list, 3))"
      ],
      "metadata": {
        "colab": {
          "base_uri": "https://localhost:8080/"
        },
        "id": "Bi5-wV6aocIf",
        "outputId": "e644809a-e7db-48e8-c898-216e5a2c66e4"
      },
      "execution_count": 90,
      "outputs": [
        {
          "output_type": "stream",
          "name": "stdout",
          "text": [
            "3 2\n",
            "5 3\n",
            "8 4\n",
            "12 5\n",
            "17\n"
          ]
        }
      ]
    },
    {
      "cell_type": "code",
      "source": [
        "# Lambda function : Anonymous\n",
        "print(list(map(lambda item: item * 2, [2,3,4,5])))"
      ],
      "metadata": {
        "colab": {
          "base_uri": "https://localhost:8080/"
        },
        "id": "uQ_I4A1YqMCV",
        "outputId": "642daea0-6a0d-442b-de5b-9a5e66f1ba90"
      },
      "execution_count": 95,
      "outputs": [
        {
          "output_type": "stream",
          "name": "stdout",
          "text": [
            "[4, 6, 8, 10]\n"
          ]
        }
      ]
    },
    {
      "cell_type": "code",
      "source": [
        "print(list(map(lambda item: item ** 2, filter(lambda item: item % 2 == 0, [1,2,3,4]))))\n",
        "\n",
        "print(list(map(lambda item: item ** 2 if item % 2 == 0 else item, [1,2,3,4])))"
      ],
      "metadata": {
        "colab": {
          "base_uri": "https://localhost:8080/"
        },
        "id": "-a3u-Tx0qdEY",
        "outputId": "139198ed-ef08-4c63-9a7f-fe9217300f86"
      },
      "execution_count": 137,
      "outputs": [
        {
          "output_type": "stream",
          "name": "stdout",
          "text": [
            "[4, 16]\n",
            "[1, 4, 3, 16]\n"
          ]
        }
      ]
    },
    {
      "cell_type": "code",
      "source": [
        "# List Comprehension\n",
        "\n",
        "list1 = [1,2,3,4]\n",
        "print([i**2 for i in list1])"
      ],
      "metadata": {
        "colab": {
          "base_uri": "https://localhost:8080/"
        },
        "id": "Diap0W48y4yt",
        "outputId": "29d0f147-ef2f-452f-c8ba-88561e703d64"
      },
      "execution_count": 139,
      "outputs": [
        {
          "output_type": "stream",
          "name": "stdout",
          "text": [
            "[1, 4, 9, 16]\n"
          ]
        }
      ]
    },
    {
      "cell_type": "code",
      "source": [
        "new = []\n",
        "for i in list1:\n",
        "  new.append(i ** 2)\n",
        "print(new)"
      ],
      "metadata": {
        "colab": {
          "base_uri": "https://localhost:8080/"
        },
        "id": "01t4fdlyzLqL",
        "outputId": "3089a496-9d79-42ad-ec25-d78e244ba37c"
      },
      "execution_count": 140,
      "outputs": [
        {
          "output_type": "stream",
          "name": "stdout",
          "text": [
            "[1, 4, 9, 16]\n"
          ]
        }
      ]
    },
    {
      "cell_type": "code",
      "source": [
        "def func(num):\n",
        "  return num ** 2\n",
        "\n",
        "print(list(map(func, list1)))"
      ],
      "metadata": {
        "colab": {
          "base_uri": "https://localhost:8080/"
        },
        "id": "qDqm-WjRzYAT",
        "outputId": "47004fd9-7b9b-43b3-9578-698c9860b324"
      },
      "execution_count": 144,
      "outputs": [
        {
          "output_type": "stream",
          "name": "stdout",
          "text": [
            "[1, 4, 9, 16]\n"
          ]
        }
      ]
    },
    {
      "cell_type": "code",
      "source": [
        "print(list(map(lambda x: x ** 2, list1)))"
      ],
      "metadata": {
        "colab": {
          "base_uri": "https://localhost:8080/"
        },
        "id": "zsyUok9Bz1YC",
        "outputId": "8a1ff85b-4217-4e3b-f497-10441d442266"
      },
      "execution_count": 150,
      "outputs": [
        {
          "output_type": "stream",
          "name": "stdout",
          "text": [
            "[1, 4, 9, 16]\n"
          ]
        }
      ]
    },
    {
      "cell_type": "code",
      "source": [
        "print([i ** 2 for i in [1,2,3,4] if i % 2 == 0])\n",
        "print([i ** 2 if i % 2 == 0 else i for i in [1,2,3,4]])"
      ],
      "metadata": {
        "colab": {
          "base_uri": "https://localhost:8080/"
        },
        "id": "zjZxWK165Sc8",
        "outputId": "c96034f6-4b83-49b8-fab3-f5c2d57d7077"
      },
      "execution_count": 164,
      "outputs": [
        {
          "output_type": "stream",
          "name": "stdout",
          "text": [
            "[4, 16]\n",
            "[1, 4, 3, 16]\n"
          ]
        }
      ]
    }
  ]
}