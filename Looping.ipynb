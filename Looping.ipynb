{
  "nbformat": 4,
  "nbformat_minor": 0,
  "metadata": {
    "colab": {
      "provenance": []
    },
    "kernelspec": {
      "name": "python3",
      "display_name": "Python 3"
    },
    "language_info": {
      "name": "python"
    }
  },
  "cells": [
    {
      "cell_type": "code",
      "execution_count": null,
      "metadata": {
        "colab": {
          "base_uri": "https://localhost:8080/"
        },
        "id": "gkXu5wYtIXfs",
        "outputId": "a7fa75af-941e-4f40-b738-053dba3087d3"
      },
      "outputs": [
        {
          "output_type": "stream",
          "name": "stdout",
          "text": [
            "2\n",
            "3\n",
            "4.0\n"
          ]
        }
      ],
      "source": [
        "# Math modules\n",
        "\n",
        "import math\n",
        "print(math.floor(2.9))\n",
        "print(math.ceil(2.4))\n",
        "print(math.sqrt(16))"
      ]
    },
    {
      "cell_type": "code",
      "source": [
        "# Ordered Dict and Default Dict\n",
        "\n",
        "d = {'a': 1, 'b': 2}\n",
        "d1 = {'b': 2, 'a': 1}\n",
        "print(d == d1)    # Dictionary is unordered"
      ],
      "metadata": {
        "colab": {
          "base_uri": "https://localhost:8080/"
        },
        "id": "j2PG5SIzKwXt",
        "outputId": "b7798c44-95c3-45f1-c5e7-0d4aba1d9144"
      },
      "execution_count": null,
      "outputs": [
        {
          "output_type": "stream",
          "name": "stdout",
          "text": [
            "True\n"
          ]
        }
      ]
    },
    {
      "cell_type": "code",
      "source": [
        "from collections import OrderedDict\n",
        "d = OrderedDict({'a': 1, 'b': 2})\n",
        "d1 = OrderedDict({'b': 2, 'a': 1})\n",
        "print(d == d1)"
      ],
      "metadata": {
        "colab": {
          "base_uri": "https://localhost:8080/"
        },
        "id": "v1L8jud7L3IT",
        "outputId": "1ce99b2e-b588-493f-925d-bb35f5d0e4a4"
      },
      "execution_count": null,
      "outputs": [
        {
          "output_type": "stream",
          "name": "stdout",
          "text": [
            "False\n"
          ]
        }
      ]
    },
    {
      "cell_type": "code",
      "source": [
        "import collections\n",
        "d = collections.OrderedDict({'a': 1, 'b': 2})\n",
        "d1 = collections.OrderedDict({'b': 2, 'a': 1})\n",
        "print(d == d1)"
      ],
      "metadata": {
        "colab": {
          "base_uri": "https://localhost:8080/"
        },
        "id": "NAB08b4nMOwV",
        "outputId": "01551bd3-1276-4b50-8404-9c0298355e85"
      },
      "execution_count": null,
      "outputs": [
        {
          "output_type": "stream",
          "name": "stdout",
          "text": [
            "False\n"
          ]
        }
      ]
    },
    {
      "cell_type": "code",
      "source": [
        "from collections import defaultdict\n",
        "\n",
        "d1 = defaultdict(int, {'a':1, 'b':2})\n",
        "print(d1.get('c'))\n",
        "print(d1['c'])\n",
        "print(d1)\n",
        "\n",
        "d2 = defaultdict(lambda: 'This key donot exist', {'a':1, 'b':2})\n",
        "print(d2.get('c'))\n",
        "print(d2['c'])\n",
        "print(d2)"
      ],
      "metadata": {
        "colab": {
          "base_uri": "https://localhost:8080/"
        },
        "id": "md9LnEdiNVHp",
        "outputId": "0d236e14-90c5-400d-f7c9-bd5776980ba6"
      },
      "execution_count": null,
      "outputs": [
        {
          "output_type": "stream",
          "name": "stdout",
          "text": [
            "None\n",
            "0\n",
            "defaultdict(<class 'int'>, {'a': 1, 'b': 2, 'c': 0})\n",
            "None\n",
            "This key donot exist\n",
            "defaultdict(<function <lambda> at 0x79b46cbdcd60>, {'a': 1, 'b': 2, 'c': 'This key donot exist'})\n"
          ]
        }
      ]
    },
    {
      "cell_type": "code",
      "source": [
        "total_marks = 800\n",
        "secured_marks = 650\n",
        "\n",
        "percent = (secured_marks/total_marks) * 100\n",
        "\n",
        "if 80 > percent >= 60:\n",
        "  print('First Division')\n",
        "\n",
        "elif percent >= 80:\n",
        "  print('Distinction')\n",
        "\n",
        "elif 60 > percent >= 40:\n",
        "  print('Second Division')\n",
        "\n",
        "else:\n",
        "  print('Try again')"
      ],
      "metadata": {
        "colab": {
          "base_uri": "https://localhost:8080/"
        },
        "id": "bkWniu0QRVIe",
        "outputId": "e029cbe8-edae-4c25-c96f-1c46b05579fd"
      },
      "execution_count": null,
      "outputs": [
        {
          "output_type": "stream",
          "name": "stdout",
          "text": [
            "Distinction\n"
          ]
        }
      ]
    },
    {
      "cell_type": "code",
      "source": [
        "total_marks = 800\n",
        "secured_marks = 650\n",
        "\n",
        "percent = (secured_marks/total_marks) * 100\n",
        "\n",
        "if percent >= 80:\n",
        "  print('Distinction')\n",
        "\n",
        "elif percent >= 60:\n",
        "  print('First Division')\n",
        "\n",
        "elif percent >= 40:\n",
        "  print('Second Division')\n",
        "\n",
        "else:\n",
        "  print('Try again')"
      ],
      "metadata": {
        "colab": {
          "base_uri": "https://localhost:8080/"
        },
        "id": "ysQYjYLXTMhf",
        "outputId": "c9f9878c-d2d0-4aec-98b7-265ad1174ae8"
      },
      "execution_count": null,
      "outputs": [
        {
          "output_type": "stream",
          "name": "stdout",
          "text": [
            "Distinction\n"
          ]
        }
      ]
    },
    {
      "cell_type": "code",
      "source": [
        "total_marks = 800\n",
        "secured_marks = 650\n",
        "percent = (secured_marks/total_marks) * 100\n",
        "\n",
        "if percent >= 60:\n",
        "  if percent >= 80:\n",
        "    print('Distinction')\n",
        "  else:\n",
        "    print('First Division')\n",
        "else:\n",
        "  if percent >= 40:\n",
        "    print('Second Division')\n",
        "  else:\n",
        "    print('Try again')"
      ],
      "metadata": {
        "colab": {
          "base_uri": "https://localhost:8080/"
        },
        "id": "XaNi3EwOUyd_",
        "outputId": "138793b6-95a6-4f51-ffd3-a27df7f17789"
      },
      "execution_count": null,
      "outputs": [
        {
          "output_type": "stream",
          "name": "stdout",
          "text": [
            "Distinction\n"
          ]
        }
      ]
    },
    {
      "cell_type": "code",
      "source": [
        "has_money = True\n",
        "is_friend = False\n",
        "\n",
        "if is_friend:\n",
        "  if has_money:\n",
        "    print('You can either buy with cash or take credit')\n",
        "  else:\n",
        "    print('You can take on credit')\n",
        "else:\n",
        "  if has_money:\n",
        "    print('You can buy with cash')\n",
        "  else:\n",
        "    print('Sorry, Try again')"
      ],
      "metadata": {
        "colab": {
          "base_uri": "https://localhost:8080/"
        },
        "id": "8VosLjt-WJpR",
        "outputId": "521cd503-1d8f-4190-a003-c2f35ded5745"
      },
      "execution_count": null,
      "outputs": [
        {
          "output_type": "stream",
          "name": "stdout",
          "text": [
            "You can buy with cash\n"
          ]
        }
      ]
    },
    {
      "cell_type": "code",
      "source": [
        "# Loops/ Iteration (similar to Recursion in mathematics)\n",
        "# There are two types of loops in python, for loop and while loop\n",
        "# For loop is used when we want to iterate over all data (i.e. Dont have the stopping condition), auto increment of index\n",
        "# While loop is controlled loop (when we know the stopping condition), i.e. index increment should be done with stopping condition\n",
        "\n",
        "for item in 'hello':\n",
        "  print(item)"
      ],
      "metadata": {
        "colab": {
          "base_uri": "https://localhost:8080/"
        },
        "id": "AuWb-6BQZY47",
        "outputId": "77a21697-b413-4d43-def5-6b5109f35815"
      },
      "execution_count": null,
      "outputs": [
        {
          "output_type": "stream",
          "name": "stdout",
          "text": [
            "h\n",
            "e\n",
            "l\n",
            "l\n",
            "o\n"
          ]
        }
      ]
    },
    {
      "cell_type": "code",
      "source": [
        "for i in 'hello':\n",
        "  print('hello')"
      ],
      "metadata": {
        "colab": {
          "base_uri": "https://localhost:8080/"
        },
        "id": "XjxCHo9WcTx6",
        "outputId": "b4be8783-d857-4d25-c1ff-1eede482c5bf"
      },
      "execution_count": 20,
      "outputs": [
        {
          "output_type": "stream",
          "name": "stdout",
          "text": [
            "hello\n",
            "hello\n",
            "hello\n",
            "hello\n",
            "hello\n"
          ]
        }
      ]
    },
    {
      "cell_type": "code",
      "source": [
        "for item in [1,2,3,4,5]:\n",
        "  print(item)"
      ],
      "metadata": {
        "id": "hTz71UovZzZX",
        "colab": {
          "base_uri": "https://localhost:8080/"
        },
        "outputId": "c7556093-9098-4cf0-fcf7-1b256e56f5f7"
      },
      "execution_count": 18,
      "outputs": [
        {
          "output_type": "stream",
          "name": "stdout",
          "text": [
            "1\n",
            "2\n",
            "3\n",
            "4\n",
            "5\n"
          ]
        }
      ]
    },
    {
      "cell_type": "code",
      "source": [
        "for i in {'a':1, 'b': 2}:\n",
        "  print(i)"
      ],
      "metadata": {
        "colab": {
          "base_uri": "https://localhost:8080/"
        },
        "id": "fovQu3UIbm47",
        "outputId": "27670bd7-a286-446e-b386-93f9905fac0e"
      },
      "execution_count": 21,
      "outputs": [
        {
          "output_type": "stream",
          "name": "stdout",
          "text": [
            "a\n",
            "b\n"
          ]
        }
      ]
    },
    {
      "cell_type": "code",
      "source": [
        "for i in (1,2,2,2):\n",
        "  print(i)"
      ],
      "metadata": {
        "colab": {
          "base_uri": "https://localhost:8080/"
        },
        "id": "FmdCFxnZcrAv",
        "outputId": "895e3d19-823e-4fa2-901a-d7625d0c8771"
      },
      "execution_count": 22,
      "outputs": [
        {
          "output_type": "stream",
          "name": "stdout",
          "text": [
            "1\n",
            "2\n",
            "2\n",
            "2\n"
          ]
        }
      ]
    },
    {
      "cell_type": "code",
      "source": [
        "for i in {1,2,2,2}:\n",
        "  print(i)"
      ],
      "metadata": {
        "colab": {
          "base_uri": "https://localhost:8080/"
        },
        "id": "ar94vh-mcv1G",
        "outputId": "4385e76f-34f3-4e94-a933-21b2f2e14fee"
      },
      "execution_count": 23,
      "outputs": [
        {
          "output_type": "stream",
          "name": "stdout",
          "text": [
            "1\n",
            "2\n"
          ]
        }
      ]
    },
    {
      "cell_type": "code",
      "source": [
        "for i in range(5):\n",
        "  print(i)"
      ],
      "metadata": {
        "colab": {
          "base_uri": "https://localhost:8080/"
        },
        "id": "EHG_AXdqc64O",
        "outputId": "b188bb19-b00b-43b5-c838-561290140907"
      },
      "execution_count": 27,
      "outputs": [
        {
          "output_type": "stream",
          "name": "stdout",
          "text": [
            "0\n",
            "1\n",
            "2\n",
            "3\n",
            "4\n"
          ]
        }
      ]
    },
    {
      "cell_type": "code",
      "source": [
        "# for i in range(5.0):    Loop cant be used in float number even with range because there exists infinite float numbers\n",
        "#   print(i)\n",
        "\n",
        "for i in range(True):\n",
        "  print(i)\n",
        "\n",
        "for i in range(False):\n",
        "  print(i)"
      ],
      "metadata": {
        "colab": {
          "base_uri": "https://localhost:8080/"
        },
        "id": "IFuZ6A6xeFnb",
        "outputId": "9a5b3b34-b9d8-48e8-e59e-d6e6431c259a"
      },
      "execution_count": 29,
      "outputs": [
        {
          "output_type": "stream",
          "name": "stdout",
          "text": [
            "0\n"
          ]
        }
      ]
    },
    {
      "cell_type": "code",
      "source": [
        "for i in range(2,4):\n",
        "  print(i)"
      ],
      "metadata": {
        "colab": {
          "base_uri": "https://localhost:8080/"
        },
        "id": "wPpO3fxrfAGu",
        "outputId": "70e91437-292c-413f-a492-a5ab7dbca035"
      },
      "execution_count": 31,
      "outputs": [
        {
          "output_type": "stream",
          "name": "stdout",
          "text": [
            "2\n",
            "3\n"
          ]
        }
      ]
    },
    {
      "cell_type": "code",
      "source": [
        "for i in range(0,11,2):\n",
        "  print(i)"
      ],
      "metadata": {
        "colab": {
          "base_uri": "https://localhost:8080/"
        },
        "id": "M-2dYaibe5yD",
        "outputId": "7d953b78-22d8-4cb3-c049-e39b61916275"
      },
      "execution_count": 45,
      "outputs": [
        {
          "output_type": "stream",
          "name": "stdout",
          "text": [
            "0\n",
            "2\n",
            "4\n",
            "6\n",
            "8\n",
            "10\n"
          ]
        }
      ]
    },
    {
      "cell_type": "code",
      "source": [
        "i = 0   # Initialization\n",
        "text = 'Hello'    # Condition Check\n",
        "\n",
        "while i < len(text):\n",
        "  print(text[i])\n",
        "  i += 1    # Value Update"
      ],
      "metadata": {
        "colab": {
          "base_uri": "https://localhost:8080/"
        },
        "id": "g9GLFhqifTan",
        "outputId": "cfb09f81-3264-4f78-bbe7-6d708f725959"
      },
      "execution_count": 47,
      "outputs": [
        {
          "output_type": "stream",
          "name": "stdout",
          "text": [
            "H\n",
            "e\n",
            "l\n",
            "l\n",
            "o\n"
          ]
        }
      ]
    },
    {
      "cell_type": "code",
      "source": [
        "text = 'Hello'\n",
        "\n",
        "i = len(text) - 1\n",
        "\n",
        "while i >= 0:\n",
        "  print(text[i])\n",
        "  i -= 1"
      ],
      "metadata": {
        "colab": {
          "base_uri": "https://localhost:8080/"
        },
        "id": "-Xdu10AzhlyN",
        "outputId": "cf5ade33-0a52-4fc7-db0c-f8cbf1c6c7f9"
      },
      "execution_count": 49,
      "outputs": [
        {
          "output_type": "stream",
          "name": "stdout",
          "text": [
            "o\n",
            "l\n",
            "l\n",
            "e\n",
            "H\n"
          ]
        }
      ]
    }
  ]
}