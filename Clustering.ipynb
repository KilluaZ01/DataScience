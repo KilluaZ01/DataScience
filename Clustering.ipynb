{
  "nbformat": 4,
  "nbformat_minor": 0,
  "metadata": {
    "colab": {
      "provenance": []
    },
    "kernelspec": {
      "name": "python3",
      "display_name": "Python 3"
    },
    "language_info": {
      "name": "python"
    }
  },
  "cells": [
    {
      "cell_type": "code",
      "execution_count": null,
      "metadata": {
        "colab": {
          "base_uri": "https://localhost:8080/",
          "height": 448
        },
        "id": "9M1StKgykxeY",
        "outputId": "0e46da77-816b-48f8-d462-e1200bde5ffa"
      },
      "outputs": [
        {
          "output_type": "execute_result",
          "data": {
            "text/plain": [
              "<matplotlib.image.AxesImage at 0x7c3b0cc07f90>"
            ]
          },
          "metadata": {},
          "execution_count": 27
        },
        {
          "output_type": "display_data",
          "data": {
            "text/plain": [
              "<Figure size 640x480 with 1 Axes>"
            ],
            "image/png": "[encoded data removed]"
          },
          "metadata": {}
        }
      ],
      "source": [
        "# Matplotlib (Matrix Plotting Library)\n",
        "\n",
        "mat = [[0,0,255,255,255,255,0,0],[0,0,255,0,0,255,0,0],[0,0,255,0,0,255,0,0],[0,0,255,255,255,255,0,0],[0,0,255,0,0,255,0,0],[0,0,255,0,0,255,0,0],[0,0,255,255,255,255,0,0],[0,0,0,0,0,0,0,0]]\n",
        "import matplotlib.pyplot as plt\n",
        "plt.imshow(mat, cmap = plt.cm.binary)"
      ]
    },
    {
      "cell_type": "markdown",
      "source": [
        "Types of Machine Learning (ML)\n",
        "1. Supervised Machine Learning\n",
        "\n",
        "2. Unsupervised Machine Learning\n",
        "      Clustering - Exclusive Clustering (Hard Clustering) - K-Means Clustering\n",
        "                   Overlapping Clustering (Soft Clustering) - C-Means Clustering\n",
        "\n",
        "      Association - Recommendation Systems, Market-Basket Analysis, Apriori Algorithm"
      ],
      "metadata": {
        "id": "Prxe1pRGmDII"
      }
    },
    {
      "cell_type": "code",
      "source": [
        "# Clustering - Predicting the class/\n",
        "\n",
        "from sklearn.datasets import load_digits\n",
        "from sklearn.cluster import KMeans"
      ],
      "metadata": {
        "id": "bT8uD45OmXY3"
      },
      "execution_count": null,
      "outputs": []
    },
    {
      "cell_type": "code",
      "source": [
        "digits = load_digits()\n",
        "data = digits.data\n",
        "data.shape"
      ],
      "metadata": {
        "colab": {
          "base_uri": "https://localhost:8080/"
        },
        "id": "iLm_hZFumt4O",
        "outputId": "cc5662e1-37ec-4ece-fcd1-ad51ffc10b9c"
      },
      "execution_count": null,
      "outputs": [
        {
          "output_type": "execute_result",
          "data": {
            "text/plain": [
              "(1797, 64)"
            ]
          },
          "metadata": {},
          "execution_count": 23
        }
      ]
    },
    {
      "cell_type": "code",
      "source": [
        "# target = digits.target  Since we are using unsupervised ML, We can't use the target"
      ],
      "metadata": {
        "id": "2LSYlDUSq83_"
      },
      "execution_count": null,
      "outputs": []
    },
    {
      "cell_type": "code",
      "source": [
        "kmeans = KMeans(n_clusters = 10, random_state = 42)\n",
        "kmeans.fit(data)\n",
        "clusters = kmeans.predict(data)"
      ],
      "metadata": {
        "id": "2YZxCeKCrkR-"
      },
      "execution_count": null,
      "outputs": []
    },
    {
      "cell_type": "code",
      "source": [
        "clusters"
      ],
      "metadata": {
        "colab": {
          "base_uri": "https://localhost:8080/"
        },
        "id": "8vA0bS-VsHQt",
        "outputId": "9efa2853-d5bb-40aa-cf6a-400f01097f6b"
      },
      "execution_count": null,
      "outputs": [
        {
          "output_type": "execute_result",
          "data": {
            "text/plain": [
              "array([5, 7, 7, ..., 8, 9, 8], dtype=int32)"
            ]
          },
          "metadata": {},
          "execution_count": 26
        }
      ]
    },
    {
      "cell_type": "code",
      "source": [
        "import matplotlib.pyplot as plt\n",
        "fig, ax = plt.subplots(2,5,figsize = (8,4))\n",
        "centers = kmeans.cluster_centers_.reshape(10,8,8)\n",
        "\n",
        "for axi,center in zip(ax.flat, centers):\n",
        "  axi.imshow(center, interpolation = 'None', cmap = plt.cm.binary)\n",
        "\n",
        "plt.show()"
      ],
      "metadata": {
        "colab": {
          "base_uri": "https://localhost:8080/",
          "height": 335
        },
        "id": "-7TKggCAofJy",
        "outputId": "0fb729a4-3fe1-44fb-c37a-8b94ea9574f2"
      },
      "execution_count": null,
      "outputs": [
        {
          "output_type": "display_data",
          "data": {
            "text/plain": [
              "<Figure size 800x400 with 10 Axes>"
            ],
            "image/png": "[encoded data removed]"
          },
          "metadata": {}
        }
      ]
    },
    {
      "cell_type": "code",
      "source": [
        "!pip install fuzzy-c-means"
      ],
      "metadata": {
        "id": "7Cfy1X2t2xN_",
        "outputId": "96d203cd-8e32-472e-fd2f-9f9c39ecb17b",
        "colab": {
          "base_uri": "https://localhost:8080/"
        }
      },
      "execution_count": null,
      "outputs": [
        {
          "output_type": "stream",
          "name": "stdout",
          "text": [
            "Collecting fuzzy-c-means\n",
            "  Downloading fuzzy_c_means-1.7.2-py3-none-any.whl.metadata (4.7 kB)\n",
            "Requirement already satisfied: joblib<2.0.0,>=1.2.0 in /usr/local/lib/python3.11/dist-packages (from fuzzy-c-means) (1.4.2)\n",
            "Collecting numpy<2.0.0,>=1.21.1 (from fuzzy-c-means)\n",
            "  Downloading numpy-1.26.4-cp311-cp311-manylinux_2_17_x86_64.manylinux2014_x86_64.whl.metadata (61 kB)\n",
            "\u001b[2K     \u001b[90m━━━━━━━━━━━━━━━━━━━━━━━━━━━━━━━━━━━━━━━━\u001b[0m \u001b[32m61.0/61.0 kB\u001b[0m \u001b[31m2.3 MB/s\u001b[0m eta \u001b[36m0:00:00\u001b[0m\n",
            "\u001b[?25hRequirement already satisfied: pydantic<3.0.0,>=2.6.4 in /usr/local/lib/python3.11/dist-packages (from fuzzy-c-means) (2.10.6)\n",
            "Collecting tabulate<0.9.0,>=0.8.9 (from fuzzy-c-means)\n",
            "  Downloading tabulate-0.8.10-py3-none-any.whl.metadata (25 kB)\n",
            "Requirement already satisfied: tqdm<5.0.0,>=4.64.1 in /usr/local/lib/python3.11/dist-packages (from fuzzy-c-means) (4.67.1)\n",
            "Collecting typer<0.10.0,>=0.9.0 (from fuzzy-c-means)\n",
            "  Downloading typer-0.9.4-py3-none-any.whl.metadata (14 kB)\n",
            "Requirement already satisfied: annotated-types>=0.6.0 in /usr/local/lib/python3.11/dist-packages (from pydantic<3.0.0,>=2.6.4->fuzzy-c-means) (0.7.0)\n",
            "Requirement already satisfied: pydantic-core==2.27.2 in /usr/local/lib/python3.11/dist-packages (from pydantic<3.0.0,>=2.6.4->fuzzy-c-means) (2.27.2)\n",
            "Requirement already satisfied: typing-extensions>=4.12.2 in /usr/local/lib/python3.11/dist-packages (from pydantic<3.0.0,>=2.6.4->fuzzy-c-means) (4.12.2)\n",
            "Requirement already satisfied: click<9.0.0,>=7.1.1 in /usr/local/lib/python3.11/dist-packages (from typer<0.10.0,>=0.9.0->fuzzy-c-means) (8.1.8)\n",
            "Downloading fuzzy_c_means-1.7.2-py3-none-any.whl (9.1 kB)\n",
            "Downloading numpy-1.26.4-cp311-cp311-manylinux_2_17_x86_64.manylinux2014_x86_64.whl (18.3 MB)\n",
            "\u001b[2K   \u001b[90m━━━━━━━━━━━━━━━━━━━━━━━━━━━━━━━━━━━━━━━━\u001b[0m \u001b[32m18.3/18.3 MB\u001b[0m \u001b[31m74.8 MB/s\u001b[0m eta \u001b[36m0:00:00\u001b[0m\n",
            "\u001b[?25hDownloading tabulate-0.8.10-py3-none-any.whl (29 kB)\n",
            "Downloading typer-0.9.4-py3-none-any.whl (45 kB)\n",
            "\u001b[2K   \u001b[90m━━━━━━━━━━━━━━━━━━━━━━━━━━━━━━━━━━━━━━━━\u001b[0m \u001b[32m46.0/46.0 kB\u001b[0m \u001b[31m5.1 MB/s\u001b[0m eta \u001b[36m0:00:00\u001b[0m\n",
            "\u001b[?25hInstalling collected packages: typer, tabulate, numpy, fuzzy-c-means\n",
            "  Attempting uninstall: typer\n",
            "    Found existing installation: typer 0.15.2\n",
            "    Uninstalling typer-0.15.2:\n",
            "      Successfully uninstalled typer-0.15.2\n",
            "  Attempting uninstall: tabulate\n",
            "    Found existing installation: tabulate 0.9.0\n",
            "    Uninstalling tabulate-0.9.0:\n",
            "      Successfully uninstalled tabulate-0.9.0\n",
            "  Attempting uninstall: numpy\n",
            "    Found existing installation: numpy 2.0.2\n",
            "    Uninstalling numpy-2.0.2:\n",
            "      Successfully uninstalled numpy-2.0.2\n"
          ]
        }
      ]
    },
    {
      "cell_type": "code",
      "source": [
        "import numpy as np\n",
        "from fcmeans import FCM\n",
        "from sklearn.datasets import load_digits"
      ],
      "metadata": {
        "id": "aiInGHnn3B1H"
      },
      "execution_count": null,
      "outputs": []
    },
    {
      "cell_type": "code",
      "source": [
        "digits = load_digits()\n",
        "X = digits.data"
      ],
      "metadata": {
        "id": "6F9VJkKk5AIe"
      },
      "execution_count": null,
      "outputs": []
    },
    {
      "cell_type": "code",
      "source": [
        "fcm = FCM(n_clusters = 10, random_state = 42)\n",
        "fcm.fit(X)"
      ],
      "metadata": {
        "id": "EnFaUEuS5OkX"
      },
      "execution_count": null,
      "outputs": []
    },
    {
      "cell_type": "code",
      "source": [
        "labels = fcm.predict(X)"
      ],
      "metadata": {
        "id": "Rj1NGA2S5drS"
      },
      "execution_count": null,
      "outputs": []
    },
    {
      "cell_type": "code",
      "source": [
        "import matplotlib.pyplot as plt\n",
        "centers = fcm.centers\n",
        "centers = centers.reshape(10, 8, 8)\n",
        "fig, ax = plt.subplots(2, 5, figsize = (8, 3))\n",
        "for axi, center in zip(ax.flat, centers):\n",
        "  axi.imshow(center, interpolation = 'None', cmap = plt.cm.binary)\n",
        "plt.show()"
      ],
      "metadata": {
        "colab": {
          "base_uri": "https://localhost:8080/",
          "height": 291
        },
        "id": "n_5bm0MJ5l6s",
        "outputId": "a0ebf7fd-58db-4f31-b850-a4834a07bb08"
      },
      "execution_count": null,
      "outputs": [
        {
          "output_type": "display_data",
          "data": {
            "text/plain": [
              "<Figure size 800x300 with 10 Axes>"
            ],
            "image/png": "[encoded data removed]"
          },
          "metadata": {}
        }
      ]
    },
    {
      "cell_type": "code",
      "source": [],
      "metadata": {
        "id": "Ks4-L02061_E"
      },
      "execution_count": null,
      "outputs": []
    }
  ]
}