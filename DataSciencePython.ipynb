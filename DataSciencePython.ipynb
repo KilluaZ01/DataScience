{
  "nbformat": 4,
  "nbformat_minor": 0,
  "metadata": {
    "colab": {
      "provenance": []
    },
    "kernelspec": {
      "name": "python3",
      "display_name": "Python 3"
    },
    "language_info": {
      "name": "python"
    }
  },
  "cells": [
    {
      "cell_type": "code",
      "source": [
        "# Single Line String\n",
        "print('Hello World')"
      ],
      "metadata": {
        "colab": {
          "base_uri": "https://localhost:8080/"
        },
        "id": "Bn9OQEWAfhyv",
        "outputId": "9279339b-f9eb-4653-a833-0a8650d1fbbc"
      },
      "execution_count": null,
      "outputs": [
        {
          "output_type": "stream",
          "name": "stdout",
          "text": [
            "Hello World\n"
          ]
        }
      ]
    },
    {
      "cell_type": "code",
      "source": [
        "print('\"Hello\"')"
      ],
      "metadata": {
        "colab": {
          "base_uri": "https://localhost:8080/"
        },
        "id": "GnanZQGkgzRk",
        "outputId": "93759959-a867-4d8a-c4e1-86aa0d0b0f58"
      },
      "execution_count": null,
      "outputs": [
        {
          "output_type": "stream",
          "name": "stdout",
          "text": [
            "\"Hello\"\n"
          ]
        }
      ]
    },
    {
      "cell_type": "code",
      "source": [
        "print(\"'Hello'\")"
      ],
      "metadata": {
        "colab": {
          "base_uri": "https://localhost:8080/"
        },
        "id": "BTYqXBSgg5es",
        "outputId": "c23f9677-b567-415d-a24f-a3bf0b5c033c"
      },
      "execution_count": null,
      "outputs": [
        {
          "output_type": "stream",
          "name": "stdout",
          "text": [
            "'Hello'\n"
          ]
        }
      ]
    },
    {
      "cell_type": "code",
      "source": [
        "print('It is very \"cold\"')"
      ],
      "metadata": {
        "colab": {
          "base_uri": "https://localhost:8080/"
        },
        "id": "CaQ2BlwwhJ1r",
        "outputId": "6aeae137-62fb-4abe-d11b-508c94e482df"
      },
      "execution_count": null,
      "outputs": [
        {
          "output_type": "stream",
          "name": "stdout",
          "text": [
            "It is very \"cold\"\n"
          ]
        }
      ]
    },
    {
      "cell_type": "code",
      "source": [
        "print('It'\"'s\" ' a \"cold\" day')\n",
        "\n",
        "# Escape Sequence (\\)\n",
        "print('It\\'s a \"cold\" day')\n",
        "print(\"It's a \\\"cold\\\" day\")"
      ],
      "metadata": {
        "colab": {
          "base_uri": "https://localhost:8080/"
        },
        "id": "wHdzIl1ThQ-b",
        "outputId": "6389d573-05e1-4e73-f59c-4efdb6559e84"
      },
      "execution_count": null,
      "outputs": [
        {
          "output_type": "stream",
          "name": "stdout",
          "text": [
            "It's a \"cold\" day\n",
            "It's a \"cold\" day\n",
            "It's a \"cold\" day\n"
          ]
        }
      ]
    },
    {
      "cell_type": "code",
      "source": [
        "# Multiline Strings\n",
        "print('''Hello Guys\n",
        "We are Learning Python\n",
        "and Data Science\\n''')\n",
        "\n",
        "print(\"\"\"Hello Guys\n",
        "We are Learning Python\n",
        "and Data Science\"\"\")"
      ],
      "metadata": {
        "colab": {
          "base_uri": "https://localhost:8080/"
        },
        "id": "WnBS17mtmRA5",
        "outputId": "c0294ce2-8a09-49f3-d05e-df3028c544c2"
      },
      "execution_count": null,
      "outputs": [
        {
          "output_type": "stream",
          "name": "stdout",
          "text": [
            "Hello Guys\n",
            "We are Learning Python\n",
            "and Data Science\n",
            "\n",
            "Hello Guys\n",
            "We are Learning Python\n",
            "and Data Science\n"
          ]
        }
      ]
    },
    {
      "cell_type": "code",
      "source": [
        "print(type(2+4))\n",
        "print(type(2.5+2.5))\n",
        "print(type(2*4))"
      ],
      "metadata": {
        "colab": {
          "base_uri": "https://localhost:8080/"
        },
        "id": "KvHLmXRph70n",
        "outputId": "342b13c9-9300-4932-8e66-2efb5d4d939e"
      },
      "execution_count": null,
      "outputs": [
        {
          "output_type": "stream",
          "name": "stdout",
          "text": [
            "<class 'int'>\n",
            "<class 'float'>\n",
            "<class 'int'>\n"
          ]
        }
      ]
    },
    {
      "cell_type": "code",
      "source": [
        "print(bool(1))\n",
        "print(bool(0))\n",
        "print(bool(40))\n",
        "print(bool(-1))\n",
        "print(bool())\n",
        "print(bool(False))\n",
        "print(bool(0.1))\n",
        "print(bool([0]))\n",
        "print(bool(1-1))\n",
        "print(bool([]))\n",
        "print(bool(['']))\n",
        "print(bool(()))"
      ],
      "metadata": {
        "colab": {
          "base_uri": "https://localhost:8080/"
        },
        "id": "utFN7unpjl2F",
        "outputId": "9432eb46-8d8e-4a67-9558-2a93690a6818"
      },
      "execution_count": null,
      "outputs": [
        {
          "output_type": "stream",
          "name": "stdout",
          "text": [
            "True\n",
            "False\n",
            "True\n",
            "True\n",
            "False\n",
            "False\n",
            "True\n",
            "True\n",
            "False\n",
            "False\n",
            "True\n",
            "False\n"
          ]
        }
      ]
    },
    {
      "cell_type": "code",
      "source": [
        "#Strings\n",
        "Text = \"We are learning Python\"\n",
        "\n",
        "#Indexing (Accessing Element Throught Integer Value)\n",
        "print(Text[0])\n",
        "print(Text[1])\n",
        "print(Text[-1])\n",
        "print(Text[-2])\n",
        "\n",
        "#Slicing (Accessing Certain Part of Strings)\n",
        "print(Text[0:5])\n",
        "print(Text[2:6])\n",
        "print(Text[:5])\n",
        "print(Text[-1:])\n",
        "print(Text[5:-1])\n"
      ],
      "metadata": {
        "colab": {
          "base_uri": "https://localhost:8080/"
        },
        "id": "KiYq4EEyj1gJ",
        "outputId": "5742acbd-613a-4981-bff8-108ac09b75af"
      },
      "execution_count": null,
      "outputs": [
        {
          "output_type": "stream",
          "name": "stdout",
          "text": [
            "W\n",
            "e\n",
            "n\n",
            "o\n",
            "We ar\n",
            " are\n",
            "We ar\n",
            "n\n",
            "e learning Pytho\n"
          ]
        }
      ]
    },
    {
      "cell_type": "code",
      "source": [
        "# Methods are the functions that is specific to centain objects\n",
        "\n",
        "print(Text.upper())\n",
        "print(Text.lower())\n",
        "print(Text.find('are'))\n",
        "print(Text.replace('Python','Data Science'))\n"
      ],
      "metadata": {
        "colab": {
          "base_uri": "https://localhost:8080/"
        },
        "id": "beuUdtD4qbZt",
        "outputId": "27f6f4f4-6889-4e8c-8d75-7b6384000a2c"
      },
      "execution_count": null,
      "outputs": [
        {
          "output_type": "stream",
          "name": "stdout",
          "text": [
            "WE ARE LEARNING PYTHON\n",
            "we are learning python\n",
            "3\n",
            "We are learning Data Science\n"
          ]
        }
      ]
    },
    {
      "cell_type": "code",
      "source": [
        "# Built-in Functions\n",
        "print(len(Text))\n",
        "print(type(Text))"
      ],
      "metadata": {
        "colab": {
          "base_uri": "https://localhost:8080/"
        },
        "id": "Dc7PPZRps6hE",
        "outputId": "d407e3b6-0626-40e2-db4b-f0054b4564f4"
      },
      "execution_count": null,
      "outputs": [
        {
          "output_type": "stream",
          "name": "stdout",
          "text": [
            "22\n",
            "<class 'str'>\n"
          ]
        }
      ]
    },
    {
      "cell_type": "code",
      "source": [
        "# List\n",
        "items = [1, 'ram', True, 'True', 2.5]\n",
        "\n",
        "# Indexing\n",
        "print(items[0])\n",
        "print(items[-1])\n",
        "\n",
        "# Slicing\n",
        "print(items[0:2])\n",
        "print(items[::-1])\n",
        "print(items)\n",
        "\n",
        "# Methods\n",
        "item = [1, 2.5]\n",
        "item.append(40)\n",
        "print(item)\n",
        "print(item.index(2.5))\n",
        "item.insert(1, 20)\n",
        "print(item)\n",
        "\n",
        "#item.insert - adds the element based on the given index\n",
        "#item.remove - deletes the element based on value\n",
        "#item.pop - deletes the element based on index"
      ],
      "metadata": {
        "colab": {
          "base_uri": "https://localhost:8080/"
        },
        "id": "KAx8zIfBskAG",
        "outputId": "b7ad1032-52a5-44b2-9f46-9a4ffb652ebf"
      },
      "execution_count": null,
      "outputs": [
        {
          "output_type": "stream",
          "name": "stdout",
          "text": [
            "1\n",
            "2.5\n",
            "[1, 'ram']\n",
            "[2.5, 'True', True, 'ram', 1]\n",
            "[1, 'ram', True, 'True', 2.5]\n",
            "[1, 2.5, 40]\n",
            "1\n",
            "[1, 20, 2.5, 40]\n"
          ]
        }
      ]
    },
    {
      "cell_type": "code",
      "source": [
        "newList = item.copy()   #Copies The Element to the Other Variable\n",
        "print(newList)"
      ],
      "metadata": {
        "id": "TPRCuEpNtbRR",
        "colab": {
          "base_uri": "https://localhost:8080/"
        },
        "outputId": "b6a5b997-0ce8-4f7b-fd9e-915d345d1fdc"
      },
      "execution_count": null,
      "outputs": [
        {
          "output_type": "stream",
          "name": "stdout",
          "text": [
            "[1, 20, 2.5, 40]\n"
          ]
        }
      ]
    },
    {
      "cell_type": "code",
      "source": [
        "ourList = newList[:]    #Copy Operation Through Slicing\n",
        "print(ourList)"
      ],
      "metadata": {
        "colab": {
          "base_uri": "https://localhost:8080/"
        },
        "id": "UXz1wckjuh4_",
        "outputId": "68572633-d229-4822-fa84-85228409a220"
      },
      "execution_count": null,
      "outputs": [
        {
          "output_type": "stream",
          "name": "stdout",
          "text": [
            "[1, 20, 2.5, 40]\n"
          ]
        }
      ]
    },
    {
      "cell_type": "code",
      "source": [
        "ourList.clear()   #Empties the List\n",
        "print(ourList)"
      ],
      "metadata": {
        "colab": {
          "base_uri": "https://localhost:8080/"
        },
        "id": "8Som3CbGuwzF",
        "outputId": "8feb968e-1052-4e92-d09b-667379090610"
      },
      "execution_count": null,
      "outputs": [
        {
          "output_type": "stream",
          "name": "stdout",
          "text": [
            "[]\n"
          ]
        }
      ]
    },
    {
      "cell_type": "code",
      "source": [
        "#newList = ['a',1,2,3,'b']\n",
        "newList.sort()\n",
        "print(newList)"
      ],
      "metadata": {
        "colab": {
          "base_uri": "https://localhost:8080/"
        },
        "id": "dnmJhSnau4oP",
        "outputId": "352a4689-a5f2-4ff5-a03e-a383d7efb74a"
      },
      "execution_count": null,
      "outputs": [
        {
          "output_type": "stream",
          "name": "stdout",
          "text": [
            "[1, 2.5, 20, 40]\n"
          ]
        }
      ]
    },
    {
      "cell_type": "code",
      "source": [
        "newList.reverse()   #Reverse the list\n",
        "print(newList)"
      ],
      "metadata": {
        "colab": {
          "base_uri": "https://localhost:8080/"
        },
        "id": "4xmFO15-vU7v",
        "outputId": "442fc87c-5c71-4bdc-e5fe-2fc970b6d6bd"
      },
      "execution_count": null,
      "outputs": [
        {
          "output_type": "stream",
          "name": "stdout",
          "text": [
            "[40, 20, 2.5, 1]\n"
          ]
        }
      ]
    },
    {
      "cell_type": "code",
      "source": [
        "#WAP to arrange the elements of given list in descending order\n",
        "\n",
        "item = [4,2,False,True, 7, 14, 11]\n",
        "\n",
        "item.sort(reverse = True)\n",
        "# item.reverse()\n",
        "print(item)"
      ],
      "metadata": {
        "colab": {
          "base_uri": "https://localhost:8080/"
        },
        "id": "huWQIknYvdEx",
        "outputId": "3a398cba-54ab-4f7a-bd00-af6e62b2f32f"
      },
      "execution_count": null,
      "outputs": [
        {
          "output_type": "stream",
          "name": "stdout",
          "text": [
            "[14, 11, 7, 4, 2, True, False]\n"
          ]
        }
      ]
    },
    {
      "cell_type": "code",
      "source": [
        "item = [1,2,3,2,3]\n",
        "\n",
        "item.remove(2)\n",
        "print(item.index(2)+1)"
      ],
      "metadata": {
        "colab": {
          "base_uri": "https://localhost:8080/"
        },
        "id": "agSpoBs_yP4g",
        "outputId": "b4d04a76-944b-46f1-8eb1-c633bd5841b9"
      },
      "execution_count": null,
      "outputs": [
        {
          "output_type": "stream",
          "name": "stdout",
          "text": [
            "3\n"
          ]
        }
      ]
    },
    {
      "cell_type": "code",
      "source": [
        "# Append vs Extend\n",
        "participants = ['ram','shyam']\n",
        "new_commers = ['hari','roshan']\n",
        "participants.append(new_commers)\n",
        "print(participants)\n",
        "\n",
        "participants2 = ['ram','shyam']\n",
        "new_commers2 = ['hari','roshan']\n",
        "participants2.extend(new_commers2)\n",
        "print(participants2)"
      ],
      "metadata": {
        "colab": {
          "base_uri": "https://localhost:8080/"
        },
        "id": "MxPEaJDGzNlf",
        "outputId": "10d37cd7-0b31-463a-8cfc-0cbae63beb12"
      },
      "execution_count": null,
      "outputs": [
        {
          "output_type": "stream",
          "name": "stdout",
          "text": [
            "['ram', 'shyam', ['hari', 'roshan']]\n",
            "['ram', 'shyam', 'hari', 'roshan']\n"
          ]
        }
      ]
    },
    {
      "cell_type": "code",
      "source": [
        "# Tuples - Tuples are faster than List *saved in primary memo\n",
        "item = (2,3,4,5)\n",
        "\n",
        "# Indexing\n",
        "print(item[0])\n",
        "print(item[1])\n",
        "\n",
        "# Slicing\n",
        "print(item[:2])\n",
        "print(item[::-1])\n",
        "\n",
        "# Methods - Tuples only have 2 methods as it is immutable (inline methods)\n",
        "print(item.count(2))\n",
        "print(item.index(4))"
      ],
      "metadata": {
        "colab": {
          "base_uri": "https://localhost:8080/"
        },
        "id": "zfMQw3gb0mtc",
        "outputId": "1ab1612b-4ebf-4883-c3ff-21fdba167906"
      },
      "execution_count": null,
      "outputs": [
        {
          "output_type": "stream",
          "name": "stdout",
          "text": [
            "2\n",
            "3\n",
            "(2, 3)\n",
            "(5, 4, 3, 2)\n",
            "1\n",
            "2\n"
          ]
        }
      ]
    },
    {
      "cell_type": "code",
      "source": [
        "a = [2,3,4,5]\n",
        "b = a   # This is not the copy operation, it references the memory location of each other\n",
        "b.append(2)\n",
        "print(a)\n",
        "a.clear()\n",
        "print(b)"
      ],
      "metadata": {
        "colab": {
          "base_uri": "https://localhost:8080/"
        },
        "id": "rcxD558317_v",
        "outputId": "5a96c344-157d-4ffc-a489-9010016efee9"
      },
      "execution_count": null,
      "outputs": [
        {
          "output_type": "stream",
          "name": "stdout",
          "text": [
            "[2, 3, 4, 5, 2]\n",
            "[]\n"
          ]
        }
      ]
    },
    {
      "cell_type": "code",
      "source": [
        "# Sets - is an unordered unique collection of items\n",
        "my_set = {2,3,4,True,False,'a','c'}\n",
        "print(my_set)\n",
        "\n",
        "# In set we cannot use indexing, since it is unordered. Same for slicing\n",
        "\n",
        "# Methods\n",
        "my_set.add(5)   # Elements can get inserted anywhere since it is unordered\n",
        "print(my_set)\n",
        "\n",
        "my_set.discard(5)\n",
        "print(my_set)   # Deletes the element based on value\n",
        "\n",
        "your_set = {2,3}\n",
        "print(my_set.difference(your_set))    # A - B\n",
        "\n",
        "print(my_set.union(your_set))   # A u B\n",
        "print(my_set.intersection(your_set))    # A n B\n",
        "\n",
        "print(my_set.issubset(your_set))\n",
        "print(your_set.issubset(my_set))"
      ],
      "metadata": {
        "colab": {
          "base_uri": "https://localhost:8080/"
        },
        "id": "W6Fz2Fz33_Uy",
        "outputId": "13b8a70d-c2ff-4bd4-e7c3-604488d45f29"
      },
      "execution_count": null,
      "outputs": [
        {
          "output_type": "stream",
          "name": "stdout",
          "text": [
            "{False, True, 2, 3, 4, 'a', 'c'}\n",
            "{False, True, 2, 3, 4, 5, 'a', 'c'}\n",
            "{False, True, 2, 3, 4, 'a', 'c'}\n",
            "{False, True, 4, 'a', 'c'}\n",
            "{False, True, 2, 3, 4, 'a', 'c'}\n",
            "{2, 3}\n",
            "False\n",
            "True\n"
          ]
        }
      ]
    },
    {
      "cell_type": "code",
      "source": [
        "my_set = {2,3,4}\n",
        "your_set = {3,4,5}\n",
        "\n",
        "my_set.difference_update(your_set)\n",
        "print(my_set)"
      ],
      "metadata": {
        "colab": {
          "base_uri": "https://localhost:8080/"
        },
        "id": "WMhbWUS98apn",
        "outputId": "801c36da-b434-43e7-e6e3-0a6a3784712a"
      },
      "execution_count": null,
      "outputs": [
        {
          "output_type": "stream",
          "name": "stdout",
          "text": [
            "{2}\n"
          ]
        }
      ]
    },
    {
      "cell_type": "code",
      "source": [
        "my_set = {2,3,4}\n",
        "your_set = {3,4,5}\n",
        "\n",
        "my_set = my_set.difference(your_set)\n",
        "\n",
        "print(my_set)"
      ],
      "metadata": {
        "colab": {
          "base_uri": "https://localhost:8080/"
        },
        "id": "sm15Ivqm8sEE",
        "outputId": "56fc23fe-cf95-4fcc-a8ce-a83c9b47d847"
      },
      "execution_count": null,
      "outputs": [
        {
          "output_type": "stream",
          "name": "stdout",
          "text": [
            "{2}\n"
          ]
        }
      ]
    },
    {
      "cell_type": "code",
      "source": [
        "# Dictionary - Stores the value in key:value pair\n",
        "\n",
        "items = {'name': 'Ram', 'age': 20 ,'is_married': True}"
      ],
      "metadata": {
        "id": "q8vpkFCs-Yzs"
      },
      "execution_count": null,
      "outputs": []
    },
    {
      "cell_type": "code",
      "source": [
        "# Indexing - Can be performed in terms of Keys\n",
        "print(items['name'])\n",
        "print(items['age'])\n",
        "\n",
        "# Slicing - Cannot be performed in Dict"
      ],
      "metadata": {
        "colab": {
          "base_uri": "https://localhost:8080/"
        },
        "id": "kSSp1Vgl_UT0",
        "outputId": "f73847ff-be1d-434d-d00d-8fd33e732aff"
      },
      "execution_count": null,
      "outputs": [
        {
          "output_type": "stream",
          "name": "stdout",
          "text": [
            "Ram\n",
            "20\n"
          ]
        }
      ]
    },
    {
      "cell_type": "code",
      "source": [
        "# Dictionary can be updated with above method\n",
        "items['name'] = 'Hari'\n",
        "print(items)"
      ],
      "metadata": {
        "colab": {
          "base_uri": "https://localhost:8080/"
        },
        "id": "7zIFQigeAjJr",
        "outputId": "5222189b-ce5c-4a2d-9ee6-ac9d34f94699"
      },
      "execution_count": null,
      "outputs": [
        {
          "output_type": "stream",
          "name": "stdout",
          "text": [
            "{'name': 'Hari', 'age': 20, 'is_married': True}\n"
          ]
        }
      ]
    },
    {
      "cell_type": "code",
      "source": [
        "# Methods\n",
        "print(items.get('Age'))   # Prefer this method while accessing key value, This wont give error if there is no key found\n",
        "print(items.keys())   # Gives all the keys in the dictionary\n",
        "print(items.values())   # Gives all the values in the dictionary\n",
        "print(items.popitem())    #Pops the last key: value pair in the dictionary\n",
        "print(items)"
      ],
      "metadata": {
        "colab": {
          "base_uri": "https://localhost:8080/"
        },
        "id": "_LsruGBRAER1",
        "outputId": "8b16bfab-9c67-4d95-9cb7-75f756f109ff"
      },
      "execution_count": null,
      "outputs": [
        {
          "output_type": "stream",
          "name": "stdout",
          "text": [
            "None\n",
            "dict_keys(['name', 'age', 'is_married'])\n",
            "dict_values(['Ram', 20, True])\n",
            "('is_married', True)\n",
            "{'name': 'Ram', 'age': 20}\n"
          ]
        }
      ]
    },
    {
      "cell_type": "code",
      "source": [
        "print(items.pop('name'))    # Deletes the pair (key:value) based on the key\n",
        "print(items)"
      ],
      "metadata": {
        "colab": {
          "base_uri": "https://localhost:8080/"
        },
        "id": "STK8HsWaC1RE",
        "outputId": "53b6d823-9060-4ffd-fdec-636e42a6e635"
      },
      "execution_count": null,
      "outputs": [
        {
          "output_type": "stream",
          "name": "stdout",
          "text": [
            "Ram\n",
            "{'age': 20}\n"
          ]
        }
      ]
    },
    {
      "cell_type": "code",
      "source": [
        "items.update({'name':'Arik'})   # Adds new key: value pair; There is not key 'name'\n",
        "print(items)"
      ],
      "metadata": {
        "colab": {
          "base_uri": "https://localhost:8080/"
        },
        "id": "Ff2y-mGKBi8S",
        "outputId": "65aa6697-d95b-47b7-9c7b-22b78b10b8de"
      },
      "execution_count": null,
      "outputs": [
        {
          "output_type": "stream",
          "name": "stdout",
          "text": [
            "{'age': 20, 'name': 'Arik'}\n"
          ]
        }
      ]
    },
    {
      "cell_type": "code",
      "source": [
        "items.update({'age':30})    # Value of the key is updated; There exists key 'age'\n",
        "print(items)"
      ],
      "metadata": {
        "colab": {
          "base_uri": "https://localhost:8080/"
        },
        "id": "JHsmTaMnD37A",
        "outputId": "46c243c6-51d0-4769-9926-fb21f94a38b4"
      },
      "execution_count": null,
      "outputs": [
        {
          "output_type": "stream",
          "name": "stdout",
          "text": [
            "{'age': 30, 'name': 'Arik'}\n"
          ]
        }
      ]
    },
    {
      "cell_type": "markdown",
      "source": [
        "# **Day 3**"
      ],
      "metadata": {
        "id": "WTRqGW4xzf9G"
      }
    },
    {
      "cell_type": "code",
      "source": [
        "# Input function\n",
        "name = input('What is your name? ')\n",
        "print(name)"
      ],
      "metadata": {
        "colab": {
          "base_uri": "https://localhost:8080/"
        },
        "id": "_VThC6DhzmsB",
        "outputId": "49b05d68-1999-41b3-853c-cdc9564ff6f8"
      },
      "execution_count": null,
      "outputs": [
        {
          "output_type": "stream",
          "name": "stdout",
          "text": [
            "What is your name?Arik\n",
            "Arik\n"
          ]
        }
      ]
    },
    {
      "cell_type": "code",
      "source": [
        "name = input('What is your name? ')\n",
        "age = int(input('What is your age? '))\n",
        "\n",
        "print(f'Hi {name}! Your age is {age}')"
      ],
      "metadata": {
        "colab": {
          "base_uri": "https://localhost:8080/"
        },
        "id": "4ss3LdJXz08-",
        "outputId": "306ba2bc-ea15-4a8e-c0cd-661918ad33cd"
      },
      "execution_count": null,
      "outputs": [
        {
          "output_type": "stream",
          "name": "stdout",
          "text": [
            "What is your name? Arik\n",
            "What is your age? 21\n",
            "Hi Arik! Your age is 21\n"
          ]
        }
      ]
    },
    {
      "cell_type": "code",
      "source": [
        "# Type Conversion\n",
        "\n",
        "birth_year = int(input('What is your birth year? '))\n",
        "age = 2025 - birth_year\n",
        "print(f'Your age is {age}.')"
      ],
      "metadata": {
        "colab": {
          "base_uri": "https://localhost:8080/"
        },
        "id": "5plUq40L0PLD",
        "outputId": "9794fc9a-4bf0-4a42-84f8-34349c11a119"
      },
      "execution_count": null,
      "outputs": [
        {
          "output_type": "stream",
          "name": "stdout",
          "text": [
            "What is your birth year? 2003\n",
            "Your age is 22.\n"
          ]
        }
      ]
    },
    {
      "cell_type": "code",
      "source": [
        "# Arithmetic Operation\n",
        "print(2+2*2)\n",
        "print(2*2-2+2)\n",
        "print(2**4)   # Power\n",
        "\n",
        "print(9/2)    # Absolute Quotient with Decimal\n",
        "print(9//2)   # Quotient without Decimal\n",
        "print(9%2)    # Remainder (Modulo)"
      ],
      "metadata": {
        "colab": {
          "base_uri": "https://localhost:8080/"
        },
        "id": "Hux-YW4j2XcA",
        "outputId": "0ca0dd47-db2e-4e30-e784-32ab0466373a"
      },
      "execution_count": null,
      "outputs": [
        {
          "output_type": "stream",
          "name": "stdout",
          "text": [
            "6\n",
            "4\n",
            "16\n",
            "4.5\n",
            "4\n",
            "1\n"
          ]
        }
      ]
    },
    {
      "cell_type": "code",
      "source": [
        "print('Arik' + ' Rai')    # Here, + is used as concatenation\n",
        "print('Hello World ' * 3)   # Here, * is working as multiplication for the string"
      ],
      "metadata": {
        "colab": {
          "base_uri": "https://localhost:8080/"
        },
        "id": "sMB5TmKP3Yvy",
        "outputId": "46121eca-4d35-45bb-cd92-643183f3836f"
      },
      "execution_count": null,
      "outputs": [
        {
          "output_type": "stream",
          "name": "stdout",
          "text": [
            "Arik Rai\n",
            "Hello World Hello World Hello World \n"
          ]
        }
      ]
    },
    {
      "cell_type": "code",
      "source": [
        "fname = input('What is your first name? ')\n",
        "lname = input('What is your last name? ')\n",
        "\n",
        "fullname = fname + ' ' + lname\n",
        "\n",
        "print('Your name is ' + fname + ' ' +lname)\n",
        "print('Your name is ' + fullname)"
      ],
      "metadata": {
        "colab": {
          "base_uri": "https://localhost:8080/"
        },
        "id": "D6RFYgtc4hsE",
        "outputId": "3ee4d365-e441-45ea-c30d-40c6d242935e"
      },
      "execution_count": null,
      "outputs": [
        {
          "output_type": "stream",
          "name": "stdout",
          "text": [
            "What is your first name? Arik\n",
            "What is your last name? Rai\n",
            "Your name is Arik Rai\n",
            "Your name is Arik Rai\n"
          ]
        }
      ]
    },
    {
      "cell_type": "code",
      "source": [
        "fname = input('What is your first name? ')\n",
        "age = input('What is your age? ')\n",
        "\n",
        "print('Your name is ' + fname + ' and age is ' + age)"
      ],
      "metadata": {
        "colab": {
          "base_uri": "https://localhost:8080/"
        },
        "id": "AtBzdes6618K",
        "outputId": "1d649473-d687-4fe6-9468-b70641f8402f"
      },
      "execution_count": null,
      "outputs": [
        {
          "output_type": "stream",
          "name": "stdout",
          "text": [
            "What is your first name? Arik\n",
            "What is your age? 21\n",
            "Your name is Arik and age is 21\n"
          ]
        }
      ]
    },
    {
      "cell_type": "code",
      "source": [
        "fname = 'Arik'\n",
        "age = 21\n",
        "\n",
        "print('My name is ' + fname + ' and age is ' + str(age))"
      ],
      "metadata": {
        "colab": {
          "base_uri": "https://localhost:8080/"
        },
        "id": "bFdnGz-17H70",
        "outputId": "be1d83af-e47a-4876-f1c2-02fbd2ca24aa"
      },
      "execution_count": null,
      "outputs": [
        {
          "output_type": "stream",
          "name": "stdout",
          "text": [
            "My name is Arik and age is 21\n"
          ]
        }
      ]
    },
    {
      "cell_type": "code",
      "source": [
        "# Concatenation with Commas\n",
        "name = 'Arik Rai'\n",
        "age = 21\n",
        "\n",
        "print('My name is', name, 'and age is', age)"
      ],
      "metadata": {
        "colab": {
          "base_uri": "https://localhost:8080/"
        },
        "id": "F2Gzos5s9Y5c",
        "outputId": "62a5a62f-2162-4903-d840-19887838f5f4"
      },
      "execution_count": null,
      "outputs": [
        {
          "output_type": "stream",
          "name": "stdout",
          "text": [
            "My name is Arik Rai and age is 21\n"
          ]
        }
      ]
    },
    {
      "cell_type": "code",
      "source": [
        "century = 20\n",
        "year = 25\n",
        "\n",
        "print('The current year is', century, year)   # Gives extra comma"
      ],
      "metadata": {
        "colab": {
          "base_uri": "https://localhost:8080/"
        },
        "id": "wnTBF978-AGe",
        "outputId": "ff1a3f7e-20ec-450c-9f9d-3a1dbf08223f"
      },
      "execution_count": null,
      "outputs": [
        {
          "output_type": "stream",
          "name": "stdout",
          "text": [
            "The current year is 20 25\n"
          ]
        }
      ]
    },
    {
      "cell_type": "code",
      "source": [
        "century = 20\n",
        "year = 25\n",
        "print(f'The current year is {century}{year}.')"
      ],
      "metadata": {
        "colab": {
          "base_uri": "https://localhost:8080/"
        },
        "id": "vSvVlZn7-oNL",
        "outputId": "4f7fc81a-73bd-45f2-e633-4738d41263c1"
      },
      "execution_count": null,
      "outputs": [
        {
          "output_type": "stream",
          "name": "stdout",
          "text": [
            "The current year is 2025\n"
          ]
        }
      ]
    },
    {
      "cell_type": "code",
      "source": [
        "# Conditional Statement (if, elif, else)\n",
        "price = 105\n",
        "if price > 100:\n",
        "  print('Overpriced')\n",
        "else:\n",
        "  print('Good Price')"
      ],
      "metadata": {
        "colab": {
          "base_uri": "https://localhost:8080/"
        },
        "id": "n_jORXHJ-084",
        "outputId": "7989e417-eb53-4bd3-8544-edc21c167b80"
      },
      "execution_count": null,
      "outputs": [
        {
          "output_type": "stream",
          "name": "stdout",
          "text": [
            "Overpriced\n"
          ]
        }
      ]
    },
    {
      "cell_type": "code",
      "source": [
        "price = 105\n",
        "if price > 100:\n",
        "  print('The price is greater than 100')\n",
        "elif price == 100:\n",
        "  print('The price is exactly 100')\n",
        "else:\n",
        "  print('The price is less than 100')"
      ],
      "metadata": {
        "colab": {
          "base_uri": "https://localhost:8080/"
        },
        "id": "nojNQ-EiBh4e",
        "outputId": "b3588fcd-d65e-43f5-c3e5-7808fa45e8b4"
      },
      "execution_count": null,
      "outputs": [
        {
          "output_type": "stream",
          "name": "stdout",
          "text": [
            "The price is greater than 100\n"
          ]
        }
      ]
    },
    {
      "cell_type": "code",
      "source": [
        "is_cold = False\n",
        "\n",
        "if is_cold:\n",
        "  print('It is a cold day')\n",
        "  print('Wear warm clothes')\n",
        "\n",
        "else:\n",
        "  print('It is a hot day')\n",
        "  print('Drink plenty of water')\n",
        "\n",
        "print('Enjoy your day')"
      ],
      "metadata": {
        "colab": {
          "base_uri": "https://localhost:8080/"
        },
        "id": "0C4_dcZwDN_M",
        "outputId": "9497e09e-9ee0-4686-b009-0d65436bb0a2"
      },
      "execution_count": null,
      "outputs": [
        {
          "output_type": "stream",
          "name": "stdout",
          "text": [
            "It is a hot day\n",
            "Drink plenty of water\n",
            "Enjoy your day\n"
          ]
        }
      ]
    },
    {
      "cell_type": "code",
      "source": [
        "is_cold = True\n",
        "is_rainy = True\n",
        "\n",
        "if is_cold:\n",
        "  print('Wear Warm Clothes')\n",
        "else:\n",
        "  print('Wear Cold Clothes')\n",
        "\n",
        "if is_rainy:\n",
        "  print('Bring Your Umbrella')\n",
        "else:\n",
        "  print('Dont Bring Umbrella')"
      ],
      "metadata": {
        "colab": {
          "base_uri": "https://localhost:8080/"
        },
        "id": "XgbiQPQIF-XU",
        "outputId": "593c2fe2-3eae-4c12-dbc8-2aa8372410e6"
      },
      "execution_count": null,
      "outputs": [
        {
          "output_type": "stream",
          "name": "stdout",
          "text": [
            "Wear Warm Clothes\n",
            "Bring Your Umbrella\n"
          ]
        }
      ]
    },
    {
      "cell_type": "code",
      "source": [
        "is_cold = True\n",
        "is_rainy = True\n",
        "\n",
        "if is_cold:\n",
        "  print('Wear Warm Clothes')\n",
        "else:\n",
        "  print('Wear Cold Clothes')\n",
        "\n",
        "if is_rainy:\n",
        "  print('Bring Your Umbrella')\n",
        "else:\n",
        "  print('Dont Bring Umbrella')"
      ],
      "metadata": {
        "colab": {
          "base_uri": "https://localhost:8080/"
        },
        "id": "DTY_rP7XGTaD",
        "outputId": "1ddb62f7-d982-4d14-d79a-93143822961e"
      },
      "execution_count": null,
      "outputs": [
        {
          "output_type": "stream",
          "name": "stdout",
          "text": [
            "Wear Warm Clothes\n",
            "Bring Your Umbrella\n"
          ]
        }
      ]
    },
    {
      "cell_type": "code",
      "source": [
        "is_friend = True\n",
        "\n",
        "if is_friend:\n",
        "  print('Allowed to message')\n",
        "else:\n",
        "  print('Not allowed to message')\n",
        "\n",
        "# Ternary Operator (Applied to conditional statement)\n",
        "print('Allowed to message' if is_friend else 'Not allowed to message')"
      ],
      "metadata": {
        "colab": {
          "base_uri": "https://localhost:8080/"
        },
        "id": "ftNeImcAJZmk",
        "outputId": "98770c8a-88fa-4a06-9396-c76f6bd921e8"
      },
      "execution_count": null,
      "outputs": [
        {
          "output_type": "stream",
          "name": "stdout",
          "text": [
            "Allowed to message\n",
            "Allowed to message\n"
          ]
        }
      ]
    },
    {
      "cell_type": "code",
      "source": [
        "# Short Circuiting (Try to make short circuits)\n",
        "price = 102\n",
        "is_brand = True\n",
        "\n",
        "if price > 100 and is_brand:\n",
        "  print('Consider the product')\n",
        "elif price < 100 and is_brand:\n",
        "  print('Buy the product')\n",
        "elif price > 100 and not is_brand:\n",
        "  print('Dont buy the product')\n",
        "else:\n",
        "  print('Think of it')\n",
        "\n",
        "if price > 100 and is_brand:\n",
        "  print('Consider the product')\n",
        "elif price < 100 and is_brand:\n",
        "  print('Buy the product')\n",
        "elif price > 100:\n",
        "  print('Dont buy the product')\n",
        "else:\n",
        "  print('Think of it')\n",
        "\n",
        "if  is_brand and price > 100:     # Better (Short Circuiting)\n",
        "  print('Consider the product')\n",
        "elif is_brand and price < 100:\n",
        "  print('Buy the product')\n",
        "elif not is_brand and price > 100 :\n",
        "  print('Dont buy the product')\n",
        "else:\n",
        "  print('Think of it')"
      ],
      "metadata": {
        "colab": {
          "base_uri": "https://localhost:8080/"
        },
        "id": "c0VSTNUiLLEn",
        "outputId": "ffb7d9b9-aeb4-4e66-9aff-d8197309f854"
      },
      "execution_count": null,
      "outputs": [
        {
          "output_type": "stream",
          "name": "stdout",
          "text": [
            "Consider the product\n",
            "Consider the product\n"
          ]
        }
      ]
    }
  ]
}