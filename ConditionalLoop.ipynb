{
  "nbformat": 4,
  "nbformat_minor": 0,
  "metadata": {
    "colab": {
      "provenance": []
    },
    "kernelspec": {
      "name": "python3",
      "display_name": "Python 3"
    },
    "language_info": {
      "name": "python"
    }
  },
  "cells": [
    {
      "cell_type": "code",
      "execution_count": 4,
      "metadata": {
        "colab": {
          "base_uri": "https://localhost:8080/"
        },
        "id": "aMJcF1QIUnwL",
        "outputId": "68893e21-fd8a-48b6-9d98-01a5a4213792"
      },
      "outputs": [
        {
          "output_type": "stream",
          "name": "stdout",
          "text": [
            "Enter your weight:23\n",
            "Enter (K) for kilograms and (L) for poundsk\n",
            "You are 51.11111111111111 pounds\n",
            "Enter your weight:2\n",
            "Enter (K) for kilograms and (L) for poundsl\n",
            "You are 0.9 kilograms\n"
          ]
        }
      ],
      "source": [
        "for i in range(2):\n",
        "  weight = float(input('Enter your weight:'))\n",
        "  unit = input('Enter (K) for kilograms and (L) for pounds')\n",
        "  if unit.upper() == 'K':\n",
        "    converted = weight/0.45\n",
        "    print(f'You are {converted} pounds')\n",
        "  elif unit.lower() == 'l':\n",
        "    converted = weight*0.45\n",
        "    print(f'You are {converted} kilograms')\n",
        "  else:\n",
        "    print('Invalid unit')"
      ]
    },
    {
      "cell_type": "code",
      "source": [
        "i = 5\n",
        "while i > 0:\n",
        "  weight = float(input('Enter your weight: '))\n",
        "  unit = input('Enter (K) for kilograms and (L) for pounds: ')\n",
        "  if unit.upper() == 'K':\n",
        "    converted = weight/0.45\n",
        "    print(f'You are {converted} pounds\\n')\n",
        "  elif unit.lower() == 'l':\n",
        "    converted = weight*0.45\n",
        "    print(f'You are {converted} kilograms\\n')\n",
        "  else:\n",
        "    print('Invalid unit')\n",
        "  i -= 1\n"
      ],
      "metadata": {
        "colab": {
          "base_uri": "https://localhost:8080/"
        },
        "id": "1DnmvM9aVWWN",
        "outputId": "98ca830d-bf38-4d63-d5e6-7aeca11a94bb"
      },
      "execution_count": 6,
      "outputs": [
        {
          "output_type": "stream",
          "name": "stdout",
          "text": [
            "Enter your weight:20\n",
            "Enter (K) for kilograms and (L) for poundsk\n",
            "You are 44.44444444444444 pounds\n",
            "\n",
            "Enter your weight:82\n",
            "Enter (K) for kilograms and (L) for poundsp\n",
            "Invalid unit\n"
          ]
        }
      ]
    },
    {
      "cell_type": "code",
      "source": [
        "# for i in range(6):\n",
        "#   if i == 0:\n",
        "#     continue\n",
        "#   print('*' * i)\n",
        "\n",
        "for i in range(5):\n",
        "  i += 1\n",
        "  print('*' * i)"
      ],
      "metadata": {
        "colab": {
          "base_uri": "https://localhost:8080/"
        },
        "id": "sO8AtSbhXbw5",
        "outputId": "3c13758f-c6b7-4413-c4ae-a17133898501"
      },
      "execution_count": 24,
      "outputs": [
        {
          "output_type": "stream",
          "name": "stdout",
          "text": [
            "*\n",
            "**\n",
            "***\n",
            "****\n",
            "*****\n"
          ]
        }
      ]
    },
    {
      "cell_type": "code",
      "source": [
        "for i in range(5,0,-1):\n",
        "  print('*' * i)"
      ],
      "metadata": {
        "colab": {
          "base_uri": "https://localhost:8080/"
        },
        "id": "fJl1sYYTZYiZ",
        "outputId": "27db4e1a-ea6f-4289-aed8-6d59b4909797"
      },
      "execution_count": 27,
      "outputs": [
        {
          "output_type": "stream",
          "name": "stdout",
          "text": [
            "*****\n",
            "****\n",
            "***\n",
            "**\n",
            "*\n"
          ]
        }
      ]
    },
    {
      "cell_type": "code",
      "source": [
        "for i in range(5):\n",
        "  print('*' * (5 - i))"
      ],
      "metadata": {
        "colab": {
          "base_uri": "https://localhost:8080/"
        },
        "id": "GKFgPB8uZ6oI",
        "outputId": "7c39fc60-298d-4ac7-be33-85d5d9894eb3"
      },
      "execution_count": 29,
      "outputs": [
        {
          "output_type": "stream",
          "name": "stdout",
          "text": [
            "*****\n",
            "****\n",
            "***\n",
            "**\n",
            "*\n"
          ]
        }
      ]
    },
    {
      "cell_type": "code",
      "source": [
        "i = 1\n",
        "\n",
        "while i < 6:\n",
        "  print('*' * i)\n",
        "  i+=1"
      ],
      "metadata": {
        "colab": {
          "base_uri": "https://localhost:8080/"
        },
        "id": "6zC-g-cQWto0",
        "outputId": "4366c605-3b9c-4942-bf08-eeb789c7e4ee"
      },
      "execution_count": 16,
      "outputs": [
        {
          "output_type": "stream",
          "name": "stdout",
          "text": [
            "*\n",
            "**\n",
            "***\n",
            "****\n",
            "*****\n"
          ]
        }
      ]
    },
    {
      "cell_type": "code",
      "source": [
        "i = 5\n",
        "\n",
        "while i > 0:\n",
        "  print('*' * i)\n",
        "  i -= 1"
      ],
      "metadata": {
        "colab": {
          "base_uri": "https://localhost:8080/"
        },
        "id": "6jkz1VSPa3_x",
        "outputId": "05283ec2-0c24-4933-e820-8b38d1d1f76d"
      },
      "execution_count": 39,
      "outputs": [
        {
          "output_type": "stream",
          "name": "stdout",
          "text": [
            "*****\n",
            "****\n",
            "***\n",
            "**\n",
            "*\n"
          ]
        }
      ]
    },
    {
      "cell_type": "code",
      "source": [
        "i = 0\n",
        "\n",
        "while i < 5:\n",
        "  print('*' * (5 - i))\n",
        "  i += 1"
      ],
      "metadata": {
        "colab": {
          "base_uri": "https://localhost:8080/"
        },
        "id": "2uD5IUmoeCDa",
        "outputId": "805918b9-13d7-4193-9cc9-130c09794b80"
      },
      "execution_count": 42,
      "outputs": [
        {
          "output_type": "stream",
          "name": "stdout",
          "text": [
            "*****\n",
            "****\n",
            "***\n",
            "**\n",
            "*\n"
          ]
        }
      ]
    },
    {
      "cell_type": "code",
      "source": [
        "i = 0\n",
        "while i < 6:\n",
        "  if i != 0:\n",
        "    print('*' * (6-i))\n",
        "  i+=1"
      ],
      "metadata": {
        "colab": {
          "base_uri": "https://localhost:8080/"
        },
        "id": "aaBCMnEdeooH",
        "outputId": "ff96e487-f5da-4cb1-bd7d-d60db772a373"
      },
      "execution_count": 43,
      "outputs": [
        {
          "output_type": "stream",
          "name": "stdout",
          "text": [
            "*****\n",
            "****\n",
            "***\n",
            "**\n",
            "*\n"
          ]
        }
      ]
    },
    {
      "cell_type": "code",
      "source": [
        "item = [2,3,4,5,6,7,2,4,5]\n",
        "listEven = []\n",
        "\n",
        "for i in item:\n",
        "  if i % 2 == 0:\n",
        "    listEven.append(i)\n",
        "\n",
        "print(listEven)\n",
        "\n",
        "item = [i for i in item if i % 2 == 0]\n",
        "print(item)"
      ],
      "metadata": {
        "colab": {
          "base_uri": "https://localhost:8080/"
        },
        "id": "TlsHZi1ofX2f",
        "outputId": "846cacb0-0f58-46e9-f60e-ea48a62f3709"
      },
      "execution_count": 50,
      "outputs": [
        {
          "output_type": "stream",
          "name": "stdout",
          "text": [
            "[2, 4, 6, 2, 4]\n",
            "[2, 4, 6, 2, 4]\n"
          ]
        }
      ]
    },
    {
      "cell_type": "code",
      "source": [
        "item = [2,3,4,5,6,7,2,4,5]\n",
        "listEven = []\n",
        "i = 0\n",
        "\n",
        "while i < len(item):\n",
        "  if item[i] % 2 == 0:\n",
        "    listEven.append(item[i])\n",
        "  i += 1\n",
        "\n",
        "print(listEven)"
      ],
      "metadata": {
        "colab": {
          "base_uri": "https://localhost:8080/"
        },
        "id": "WC6OKVf6ifDg",
        "outputId": "53a6b626-1d4d-455d-ed05-5932635ddbd5"
      },
      "execution_count": 53,
      "outputs": [
        {
          "output_type": "stream",
          "name": "stdout",
          "text": [
            "[2, 4, 6, 2, 4]\n"
          ]
        }
      ]
    },
    {
      "cell_type": "code",
      "source": [
        "# WAP to find the max value of the list using for loop\n",
        "\n",
        "item = [2,3,4,5,6,7,2,4,5]\n",
        "max = item[0]\n",
        "\n",
        "for i in item:\n",
        "  if max < i:\n",
        "    max = i\n",
        "\n",
        "print(max)"
      ],
      "metadata": {
        "colab": {
          "base_uri": "https://localhost:8080/"
        },
        "id": "5o7bwcKPljTh",
        "outputId": "64cc46f6-58c7-40fe-8da8-6617ed31558e"
      },
      "execution_count": 57,
      "outputs": [
        {
          "output_type": "stream",
          "name": "stdout",
          "text": [
            "7\n"
          ]
        }
      ]
    },
    {
      "cell_type": "code",
      "source": [
        "item = [-4,-2,-3,-4,-5,-6,-7,-2,-4,-5]\n",
        "max = item[0]\n",
        "i = 0\n",
        "\n",
        "while i < len(item):\n",
        "  if max < item[i]:\n",
        "    max = item[i]\n",
        "  i += 1\n",
        "\n",
        "print(max)"
      ],
      "metadata": {
        "colab": {
          "base_uri": "https://localhost:8080/"
        },
        "id": "zcqxko9Hnqb1",
        "outputId": "290862cf-8eb4-4277-a39f-17b3af8b5b18"
      },
      "execution_count": 61,
      "outputs": [
        {
          "output_type": "stream",
          "name": "stdout",
          "text": [
            "-2\n"
          ]
        }
      ]
    },
    {
      "cell_type": "code",
      "source": [
        "# WAP to find the list of only unique elements of given list\n",
        "\n",
        "items = [2,2,4,5,4,6]\n",
        "uniqueItems = []\n",
        "\n",
        "for i in items:\n",
        "  if i not in uniqueItems:\n",
        "    uniqueItems.append(i)\n",
        "\n",
        "print(uniqueItems)"
      ],
      "metadata": {
        "colab": {
          "base_uri": "https://localhost:8080/"
        },
        "id": "sKxUGOTyomxj",
        "outputId": "851a4514-9e43-48eb-c0ba-732c2cfbf22f"
      },
      "execution_count": 65,
      "outputs": [
        {
          "output_type": "stream",
          "name": "stdout",
          "text": [
            "[2, 4, 5, 6]\n"
          ]
        }
      ]
    }
  ]
}