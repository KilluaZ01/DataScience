{
 "cells": [
  {
   "cell_type": "code",
   "execution_count": 44,
   "id": "d5a27a1f-3ea3-4881-804a-c28006e641b2",
   "metadata": {},
   "outputs": [
    {
     "name": "stdout",
     "output_type": "stream",
     "text": [
      "<_io.TextIOWrapper name='../new.txt' mode='r' encoding='cp1252'>\n",
      "<_io.TextIOWrapper name='C:/Users/Lenovo/OneDrive/Desktop/new.txt' mode='r' encoding='cp1252'>\n"
     ]
    }
   ],
   "source": [
    "# File I/O \n",
    "\n",
    "my_file = open('../new.txt')  # Relative Path\n",
    "this_file = open('C:/Users/Lenovo/OneDrive/Desktop/new.txt')  # Absolute Path\n",
    "another_relative = open('../../../Downloads/new.txt')\n",
    "print(my_file)\n",
    "print(this_file)\n"
   ]
  },
  {
   "cell_type": "code",
   "execution_count": 36,
   "id": "0108a2d8-ef2c-4e06-a8c7-fdf7fe5a60c2",
   "metadata": {},
   "outputs": [
    {
     "name": "stdout",
     "output_type": "stream",
     "text": [
      "Hello My name is Arik\n",
      "This is my Data Science Class\n",
      "I like Data Science\n",
      "Hello My name is Arik\n",
      "This is my Data Science Class\n",
      "I like Data Science\n",
      "Download file\n",
      "This is download\n",
      "\n"
     ]
    }
   ],
   "source": [
    "print(my_file.read())\n",
    "print(this_file.read())\n",
    "print(another_relative.read())"
   ]
  },
  {
   "cell_type": "code",
   "execution_count": 38,
   "id": "91ce6401-c5d7-4878-9b13-0a087116f399",
   "metadata": {},
   "outputs": [
    {
     "name": "stdout",
     "output_type": "stream",
     "text": [
      "ello My name is Arik\n",
      "This is my Data Science Class\n",
      "I like Data Science\n"
     ]
    }
   ],
   "source": [
    "my_file.seek(1)\n",
    "print(my_file.read())"
   ]
  },
  {
   "cell_type": "code",
   "execution_count": 39,
   "id": "7ef9248e-63b2-46e6-bcf9-63ab46da8c50",
   "metadata": {},
   "outputs": [
    {
     "data": {
      "text/plain": [
       "'Hello My name is Arik\\n'"
      ]
     },
     "execution_count": 39,
     "metadata": {},
     "output_type": "execute_result"
    }
   ],
   "source": [
    "my_file.seek(0)\n",
    "my_file.readline()"
   ]
  },
  {
   "cell_type": "code",
   "execution_count": 43,
   "id": "2478bcc3-4722-4ea6-a6ab-00f3494338a7",
   "metadata": {},
   "outputs": [
    {
     "name": "stdout",
     "output_type": "stream",
     "text": [
      "['Hello My name is Arik\\n', 'This is my Data Science Class\\n', 'I like Data Science']\n"
     ]
    }
   ],
   "source": [
    "my_file.seek(0)\n",
    "# my_file.readlines()\n",
    "print(my_file.readlines())"
   ]
  },
  {
   "cell_type": "code",
   "execution_count": 46,
   "id": "685a4af9-feae-44fe-ae0b-a2ac0b460b38",
   "metadata": {},
   "outputs": [
    {
     "name": "stdout",
     "output_type": "stream",
     "text": [
      "Hello My name is Arik\n",
      "This is my Data Science Class\n",
      "I like Data Science\n"
     ]
    }
   ],
   "source": [
    "with open('../new.txt') as my_file:\n",
    "    print(my_file.read())"
   ]
  },
  {
   "cell_type": "code",
   "execution_count": 48,
   "id": "602c2ab8-db83-4fbb-ac36-43a9426085e5",
   "metadata": {},
   "outputs": [],
   "source": [
    "with open('../new.txt', mode = 'w') as my_file:\n",
    "    print(my_file.read())\n",
    "\n",
    "# with open('../new.txt', mode = 'w') as my_file:\n",
    "#     print(my_file.read())\n",
    "# ---------------------------------------------------------------------------\n",
    "# UnsupportedOperation                      Traceback (most recent call last)\n",
    "# Cell In[47], line 2\n",
    "#       1 with open('../new.txt', mode = 'w') as my_file:\n",
    "# ----> 2     print(my_file.read())\n",
    "\n",
    "# UnsupportedOperation: not readable"
   ]
  },
  {
   "cell_type": "code",
   "execution_count": 50,
   "id": "a2ecbe50-7b7a-46e9-9a1e-d17e74de1aac",
   "metadata": {},
   "outputs": [],
   "source": [
    "with open('../few.txt', mode = 'w') as my_file:\n",
    "    print(my_file.read())\n",
    "\n",
    "# ---------------------------------------------------------------------------\n",
    "# UnsupportedOperation                      Traceback (most recent call last)\n",
    "# Cell In[49], line 2\n",
    "#       1 with open('../few.txt', mode = 'w') as my_file:\n",
    "# ----> 2     print(my_file.read())\n",
    "\n",
    "# UnsupportedOperation: not readable"
   ]
  },
  {
   "cell_type": "code",
   "execution_count": 110,
   "id": "bf176912-e636-4030-9b09-51e69fb29cd7",
   "metadata": {},
   "outputs": [
    {
     "name": "stdout",
     "output_type": "stream",
     "text": [
      "5\n",
      "12345\n"
     ]
    }
   ],
   "source": [
    "with open('../new.txt', mode = 'w') as my_file:\n",
    "    print(my_file.write('12345'))\n",
    "\n",
    "with open('../new.txt', mode = 'r') as my_file:\n",
    "    print(my_file.read())"
   ]
  },
  {
   "cell_type": "code",
   "execution_count": 120,
   "id": "6e3532ff-4b61-4a34-85f8-444ce9f26a68",
   "metadata": {},
   "outputs": [
    {
     "name": "stdout",
     "output_type": "stream",
     "text": [
      "5\n",
      "hellohello\n"
     ]
    }
   ],
   "source": [
    "with open('../dew.txt', mode = 'a') as my_file:\n",
    "    print(my_file.write('hello'))\n",
    "\n",
    "with open('../dew.txt') as this_file:\n",
    "    print(this_file.read())"
   ]
  },
  {
   "cell_type": "code",
   "execution_count": 114,
   "id": "1425c091-594f-4e00-87dc-b8284204e4e3",
   "metadata": {},
   "outputs": [
    {
     "name": "stdout",
     "output_type": "stream",
     "text": [
      "12345ab\n"
     ]
    }
   ],
   "source": [
    "with open('../new.txt') as my_file:\n",
    "    print(my_file.readline())"
   ]
  },
  {
   "cell_type": "code",
   "execution_count": 111,
   "id": "511992cf-748f-4125-88c0-7746e2aa9a22",
   "metadata": {},
   "outputs": [
    {
     "name": "stdout",
     "output_type": "stream",
     "text": [
      "2\n",
      "12345ab\n"
     ]
    }
   ],
   "source": [
    "with open('../new.txt', mode = 'a') as my_file:\n",
    "    print(my_file.write('ab'))\n",
    "\n",
    "with open('../new.txt') as my_file:\n",
    "    print(my_file.read())"
   ]
  },
  {
   "cell_type": "code",
   "execution_count": null,
   "id": "887fd7f1-e59d-4a21-bfa7-46b68aed5fe3",
   "metadata": {},
   "outputs": [],
   "source": []
  }
 ],
 "metadata": {
  "kernelspec": {
   "display_name": "Python 3 (ipykernel)",
   "language": "python",
   "name": "python3"
  },
  "language_info": {
   "codemirror_mode": {
    "name": "ipython",
    "version": 3
   },
   "file_extension": ".py",
   "mimetype": "text/x-python",
   "name": "python",
   "nbconvert_exporter": "python",
   "pygments_lexer": "ipython3",
   "version": "3.11.9"
  }
 },
 "nbformat": 4,
 "nbformat_minor": 5
}
