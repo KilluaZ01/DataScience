{
  "nbformat": 4,
  "nbformat_minor": 0,
  "metadata": {
    "colab": {
      "provenance": []
    },
    "kernelspec": {
      "name": "python3",
      "display_name": "Python 3"
    },
    "language_info": {
      "name": "python"
    }
  },
  "cells": [
    {
      "cell_type": "code",
      "execution_count": null,
      "metadata": {
        "id": "ydPnKcRGPnCc"
      },
      "outputs": [],
      "source": [
        "# Classification\n",
        "# Class Imbalanced Problem - This is a problem when the datasets in one class is much higher than in the other class\n",
        "# In this case, the model deviates towards the higher sample class, so accuracy_score won't be the sufficient evaluation metrics\n",
        "\n",
        "import pandas as pd\n",
        "df = pd.read_csv('music.csv')\n",
        "\n",
        "X = df[['age','gender']]\n",
        "y = df['genre']\n",
        "\n",
        "from sklearn.model_selection import train_test_split\n",
        "X_train,X_test,y_train,y_test = train_test_split(X,y,test_size = 0.5)\n",
        "\n",
        "\n",
        "\n",
        "\n"
      ]
    },
    {
      "cell_type": "code",
      "source": [
        "from sklearn.tree import DecisionTreeClassifier\n",
        "model = DecisionTreeClassifier()\n",
        "model.fit(X_train,y_train)\n",
        "pred = model.predict(X_test)\n",
        "\n",
        "from sklearn.metrics import accuracy_score\n",
        "accuracy = accuracy_score(pred, y_test)\n",
        "\n",
        "print(accuracy)"
      ],
      "metadata": {
        "colab": {
          "base_uri": "https://localhost:8080/"
        },
        "id": "tJMG7wI3Uzyw",
        "outputId": "42283e5e-9a02-4a2c-83a3-605f99edca8c"
      },
      "execution_count": null,
      "outputs": [
        {
          "output_type": "stream",
          "name": "stdout",
          "text": [
            "['HipHop' 'HipHop' 'HipHop' 'HipHop' 'HipHop' 'HipHop' 'HipHop' 'HipHop'\n",
            " 'HipHop']\n",
            "0.7777777777777778\n"
          ]
        }
      ]
    },
    {
      "cell_type": "code",
      "source": [
        "# Confusion Matrix\n",
        "\n",
        "from sklearn.metrics import confusion_matrix\n",
        "\n",
        "conf = confusion_matrix(y_test, pred)\n",
        "print(pred)\n",
        "print(y_test)\n",
        "conf"
      ],
      "metadata": {
        "colab": {
          "base_uri": "https://localhost:8080/"
        },
        "id": "EzBU2hvbWIAT",
        "outputId": "3edb0af2-bae4-4712-aeff-eb54a8637111"
      },
      "execution_count": null,
      "outputs": [
        {
          "output_type": "stream",
          "name": "stdout",
          "text": [
            "['HipHop' 'HipHop' 'HipHop' 'HipHop' 'HipHop' 'HipHop' 'HipHop' 'HipHop'\n",
            " 'HipHop']\n",
            "10     Dance\n",
            "3     HipHop\n",
            "4     HipHop\n",
            "0     HipHop\n",
            "1     HipHop\n",
            "13    HipHop\n",
            "9      Dance\n",
            "12    HipHop\n",
            "14    HipHop\n",
            "Name: genre, dtype: object\n"
          ]
        },
        {
          "output_type": "execute_result",
          "data": {
            "text/plain": [
              "array([[0, 2],\n",
              "       [0, 7]])"
            ]
          },
          "metadata": {},
          "execution_count": 87
        }
      ]
    },
    {
      "cell_type": "code",
      "source": [
        "from sklearn.metrics import classification_report\n",
        "cr = classification_report(y_test, pred)\n",
        "print(cr)"
      ],
      "metadata": {
        "colab": {
          "base_uri": "https://localhost:8080/"
        },
        "id": "sX_k3fU5Wj8z",
        "outputId": "e66f32d9-4a21-4a44-c88f-e2b94589bfc0"
      },
      "execution_count": null,
      "outputs": [
        {
          "output_type": "stream",
          "name": "stdout",
          "text": [
            "              precision    recall  f1-score   support\n",
            "\n",
            "       Dance       0.00      0.00      0.00         2\n",
            "      HipHop       0.78      1.00      0.88         7\n",
            "\n",
            "    accuracy                           0.78         9\n",
            "   macro avg       0.39      0.50      0.44         9\n",
            "weighted avg       0.60      0.78      0.68         9\n",
            "\n"
          ]
        },
        {
          "output_type": "stream",
          "name": "stderr",
          "text": [
            "/usr/local/lib/python3.11/dist-packages/sklearn/metrics/_classification.py:1565: UndefinedMetricWarning: Precision is ill-defined and being set to 0.0 in labels with no predicted samples. Use `zero_division` parameter to control this behavior.\n",
            "  _warn_prf(average, modifier, f\"{metric.capitalize()} is\", len(result))\n",
            "/usr/local/lib/python3.11/dist-packages/sklearn/metrics/_classification.py:1565: UndefinedMetricWarning: Precision is ill-defined and being set to 0.0 in labels with no predicted samples. Use `zero_division` parameter to control this behavior.\n",
            "  _warn_prf(average, modifier, f\"{metric.capitalize()} is\", len(result))\n",
            "/usr/local/lib/python3.11/dist-packages/sklearn/metrics/_classification.py:1565: UndefinedMetricWarning: Precision is ill-defined and being set to 0.0 in labels with no predicted samples. Use `zero_division` parameter to control this behavior.\n",
            "  _warn_prf(average, modifier, f\"{metric.capitalize()} is\", len(result))\n"
          ]
        }
      ]
    },
    {
      "cell_type": "code",
      "source": [
        "df_balanced = pd.read_csv('BalancedMusic.csv')\n",
        "\n",
        "X = df_balanced[['age','gender']]\n",
        "y = df_balanced['genre']\n",
        "\n",
        "from sklearn.model_selection import train_test_split\n",
        "X_train, X_test, y_train, y_test = train_test_split(X,y,test_size = 0.5)\n",
        "\n",
        "from sklearn.tree import DecisionTreeClassifier\n",
        "model = DecisionTreeClassifier()\n",
        "model.fit(X_train, y_train)\n",
        "prediction = model.predict(X_test)\n",
        "\n",
        "from sklearn.metrics import confusion_matrix\n",
        "conf = confusion_matrix(y_test, prediction)\n",
        "\n",
        "from sklearn.metrics import accuracy_score\n",
        "accuracy = accuracy_score(prediction, y_test)\n",
        "print(accuracy)\n",
        "print(conf)\n",
        "print(prediction)\n",
        "print(y_test)\n",
        "\n",
        "from sklearn.metrics import classification_report\n",
        "report = classification_report(y_test, prediction)\n",
        "print(report)"
      ],
      "metadata": {
        "colab": {
          "base_uri": "https://localhost:8080/"
        },
        "id": "-a1eOajAjX6O",
        "outputId": "243b79d8-d8a9-4543-9855-826aa3a2128a"
      },
      "execution_count": null,
      "outputs": [
        {
          "output_type": "stream",
          "name": "stdout",
          "text": [
            "0.4444444444444444\n",
            "[[0 1 0 0 0 0]\n",
            " [0 1 0 0 0 0]\n",
            " [0 0 1 1 0 0]\n",
            " [0 0 0 2 0 0]\n",
            " [0 0 1 0 0 0]\n",
            " [0 0 0 0 2 0]]\n",
            "['Pop' 'HipHop' 'Dance' 'Jazz' 'Jazz' 'Pop' 'HipHop' 'Jazz' 'Dance']\n",
            "16          R&B\n",
            "6           Pop\n",
            "10        Dance\n",
            "0          Jazz\n",
            "1          Jazz\n",
            "17          R&B\n",
            "5        HipHop\n",
            "3        HipHop\n",
            "12    Classical\n",
            "Name: genre, dtype: object\n",
            "              precision    recall  f1-score   support\n",
            "\n",
            "   Classical       0.00      0.00      0.00         1\n",
            "       Dance       0.50      1.00      0.67         1\n",
            "      HipHop       0.50      0.50      0.50         2\n",
            "        Jazz       0.67      1.00      0.80         2\n",
            "         Pop       0.00      0.00      0.00         1\n",
            "         R&B       0.00      0.00      0.00         2\n",
            "\n",
            "    accuracy                           0.44         9\n",
            "   macro avg       0.28      0.42      0.33         9\n",
            "weighted avg       0.31      0.44      0.36         9\n",
            "\n"
          ]
        },
        {
          "output_type": "stream",
          "name": "stderr",
          "text": [
            "/usr/local/lib/python3.11/dist-packages/sklearn/metrics/_classification.py:1565: UndefinedMetricWarning: Precision is ill-defined and being set to 0.0 in labels with no predicted samples. Use `zero_division` parameter to control this behavior.\n",
            "  _warn_prf(average, modifier, f\"{metric.capitalize()} is\", len(result))\n",
            "/usr/local/lib/python3.11/dist-packages/sklearn/metrics/_classification.py:1565: UndefinedMetricWarning: Precision is ill-defined and being set to 0.0 in labels with no predicted samples. Use `zero_division` parameter to control this behavior.\n",
            "  _warn_prf(average, modifier, f\"{metric.capitalize()} is\", len(result))\n",
            "/usr/local/lib/python3.11/dist-packages/sklearn/metrics/_classification.py:1565: UndefinedMetricWarning: Precision is ill-defined and being set to 0.0 in labels with no predicted samples. Use `zero_division` parameter to control this behavior.\n",
            "  _warn_prf(average, modifier, f\"{metric.capitalize()} is\", len(result))\n"
          ]
        }
      ]
    },
    {
      "cell_type": "code",
      "source": [
        "import pandas as pd\n",
        "from sklearn.datasets import load_iris\n",
        "from sklearn.model_selection import train_test_split\n",
        "from sklearn.tree import DecisionTreeClassifier\n",
        "from sklearn.metrics import classification_report\n",
        "from sklearn.metrics import confusion_matrix\n",
        "\n",
        "data = load_iris()\n",
        "X = data.data\n",
        "y = data.target\n",
        "\n",
        "X_train, X_test, y_train, y_test = train_test_split(X,y,test_size = 0.2)\n",
        "\n",
        "model = DecisionTreeClassifier()\n",
        "model.fit(X_train,y_train)\n",
        "\n",
        "prediction = model.predict(X_test)\n",
        "\n",
        "confusion = confusion_matrix(y_test, prediction)\n",
        "print(confusion)\n",
        "\n",
        "report = classification_report(y_test, prediction)\n",
        "print(report)"
      ],
      "metadata": {
        "colab": {
          "base_uri": "https://localhost:8080/"
        },
        "id": "jCIUnICRinLl",
        "outputId": "f675722e-684d-4c9f-d33f-092290416431"
      },
      "execution_count": 11,
      "outputs": [
        {
          "output_type": "stream",
          "name": "stdout",
          "text": [
            "[[11  0  0]\n",
            " [ 0  6  1]\n",
            " [ 0  0 12]]\n",
            "              precision    recall  f1-score   support\n",
            "\n",
            "           0       1.00      1.00      1.00        11\n",
            "           1       1.00      0.86      0.92         7\n",
            "           2       0.92      1.00      0.96        12\n",
            "\n",
            "    accuracy                           0.97        30\n",
            "   macro avg       0.97      0.95      0.96        30\n",
            "weighted avg       0.97      0.97      0.97        30\n",
            "\n"
          ]
        }
      ]
    }
  ]
}