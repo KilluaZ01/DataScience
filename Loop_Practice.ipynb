{
  "nbformat": 4,
  "nbformat_minor": 0,
  "metadata": {
    "colab": {
      "provenance": []
    },
    "kernelspec": {
      "name": "python3",
      "display_name": "Python 3"
    },
    "language_info": {
      "name": "python"
    }
  },
  "cells": [
    {
      "cell_type": "code",
      "source": [],
      "metadata": {
        "id": "GCEPut6CdlD3"
      },
      "execution_count": null,
      "outputs": []
    },
    {
      "cell_type": "code",
      "execution_count": null,
      "metadata": {
        "id": "S6Dc43nFdehb"
      },
      "outputs": [],
      "source": [
        "#WAP to find the list of only unique elements of given list\n",
        "\n",
        "items = [2,2,4,5,6]"
      ]
    },
    {
      "cell_type": "code",
      "source": [
        "items = [2,2,4,4,5,6]\n",
        "uniqueList = []\n",
        "dupList = []\n",
        "sepList = []\n",
        "\n",
        "for i in items:\n",
        "  if i not in uniqueList:\n",
        "    uniqueList.append(i)\n",
        "  else:\n",
        "    dupList.append(i)\n",
        "\n",
        "for i in uniqueList:\n",
        "  if i not in dupList:\n",
        "    sepList.append(i)\n",
        "\n",
        "print(sepList)\n",
        "\n",
        "newList = []\n",
        "for i in items:\n",
        "  if items.count(i) <= 1:\n",
        "    newList.append(i)\n",
        "\n",
        "print(newList)"
      ],
      "metadata": {
        "colab": {
          "base_uri": "https://localhost:8080/"
        },
        "id": "bmsXcYxZdkYb",
        "outputId": "87efd058-350d-4157-fabe-512a1286201c"
      },
      "execution_count": 5,
      "outputs": [
        {
          "output_type": "stream",
          "name": "stdout",
          "text": [
            "[5, 6]\n",
            "[5, 6]\n"
          ]
        }
      ]
    },
    {
      "cell_type": "code",
      "source": [
        "i = 0\n",
        "newList = []\n",
        "\n",
        "while i< len(items):\n",
        "  if items.count(items[i]) <= 1:\n",
        "    newList.append(items[i])\n",
        "  i += 1\n",
        "\n",
        "print(newList)"
      ],
      "metadata": {
        "colab": {
          "base_uri": "https://localhost:8080/"
        },
        "id": "WoTuyicYexVP",
        "outputId": "9bede1d0-579d-4b88-b124-5899a65b57a0"
      },
      "execution_count": 9,
      "outputs": [
        {
          "output_type": "stream",
          "name": "stdout",
          "text": [
            "[6, 5]\n"
          ]
        }
      ]
    },
    {
      "cell_type": "code",
      "source": [
        "# WAP to find the list of square value of even element of the given list\n",
        "\n",
        "items = [1,2,3,4]\n",
        "evenList = []\n",
        "\n",
        "items = [i**2 for i in items if i % 2 == 0]\n",
        "print(items)\n",
        "\n",
        "items = [1,2,3,4]\n",
        "\n",
        "for i in items:\n",
        "  if i % 2 == 0:\n",
        "    evenList.append(i ** 2)\n",
        "\n",
        "print(evenList)"
      ],
      "metadata": {
        "colab": {
          "base_uri": "https://localhost:8080/"
        },
        "id": "nuuF3uy_gF6R",
        "outputId": "1a999b85-a973-44e5-9892-a308b41dbd37"
      },
      "execution_count": 5,
      "outputs": [
        {
          "output_type": "stream",
          "name": "stdout",
          "text": [
            "[4, 16]\n",
            "[4, 16]\n"
          ]
        }
      ]
    },
    {
      "cell_type": "code",
      "source": [
        "# Car Game (Without Graphics)\n",
        "\n",
        "while True:\n",
        "  userInput = input('Enter any keyword: ')\n",
        "  if userInput.lower() == 'start' and cmd != 'start':\n",
        "    print('Car Started')\n",
        "  elif userInput.lower() == 'start' and cmd == 'start':\n",
        "    print('Car already started')\n",
        "  elif userInput.lower() == 'stop' and cmd != 'stop':\n",
        "    print('Car Stopped')\n",
        "  elif userInput.lower() == 'stop' and cmd == 'stop':\n",
        "    print('Car already stopped')\n",
        "  elif userInput.lower() == 'help':\n",
        "    print('\"start\" to Start the car\\n\"stop\" to Stop the car\\n\"quit\" to Quit the game')\n",
        "  elif userInput.lower() == 'quit':\n",
        "    print('Thank you for Playing')\n",
        "    break\n",
        "  else:\n",
        "    print('Enter a valid keyword')\n",
        "  cmd = userInput.lower()"
      ],
      "metadata": {
        "colab": {
          "base_uri": "https://localhost:8080/"
        },
        "id": "Pr1AK8tJjAn-",
        "outputId": "9ac0f1b7-003e-4b63-d27d-095e32a0ecd8"
      },
      "execution_count": 13,
      "outputs": [
        {
          "output_type": "stream",
          "name": "stdout",
          "text": [
            "Enter any keyword: start\n",
            "Car Started\n",
            "Enter any keyword: start\n",
            "Car already started\n",
            "Enter any keyword: quit\n",
            "Thank you for Playing\n"
          ]
        }
      ]
    },
    {
      "cell_type": "code",
      "source": [
        "isStarted = False\n",
        "while True:\n",
        "  userInput = input('Enter any keyword: ')\n",
        "  if userInput.lower() == 'start':\n",
        "    if isStarted:\n",
        "      print('Car Already Started')\n",
        "    else:\n",
        "      print('Car Started')\n",
        "      isStarted = True\n",
        "  elif userInput.lower() == 'stop':\n",
        "    if not isStarted:\n",
        "      print('Car Already Stopped')\n",
        "    else:\n",
        "      print('Car Stopped')\n",
        "      isStarted = False\n",
        "  elif userInput.lower() == 'help':\n",
        "    print('\"start\" to Start the car\\n\"stop\" to Stop the car\\n\"quit\" to Quit the game')\n",
        "  elif userInput.lower() == 'quit':\n",
        "    print('Thank you for Playing')\n",
        "    break\n",
        "  else:\n",
        "    print('Enter a valid keyword')"
      ],
      "metadata": {
        "colab": {
          "base_uri": "https://localhost:8080/"
        },
        "id": "G1DVEeTIoOsE",
        "outputId": "dcce40f0-7b93-4732-ec17-9b882877fbe5"
      },
      "execution_count": 20,
      "outputs": [
        {
          "output_type": "stream",
          "name": "stdout",
          "text": [
            "Enter any keyword: Start\n",
            "Car Started\n",
            "Enter any keyword: start\n",
            "Car Already Started\n",
            "Enter any keyword: stop\n",
            "Car Stopped\n",
            "Enter any keyword: stop\n",
            "Car Already Stopped\n",
            "Enter any keyword: quit\n",
            "Thank you for Playing\n"
          ]
        }
      ]
    },
    {
      "cell_type": "code",
      "source": [
        "while True:\n",
        "  user_input = input('Enter The Word That I am Searching for: ').lower()\n",
        "  if user_input[0] != 'p':\n",
        "    print('The word is not the one I am searching. Thank you.')\n",
        "    break\n",
        "  else:\n",
        "    if user_input[1] != 's':\n",
        "      print('P is not silent!\\n')\n",
        "    else:\n",
        "      print('P is silent!\\n')"
      ],
      "metadata": {
        "colab": {
          "base_uri": "https://localhost:8080/"
        },
        "id": "q0DyR7QPrrOu",
        "outputId": "a9b65fbe-e22c-4fe0-b1e1-c182ebb2ba54"
      },
      "execution_count": 25,
      "outputs": [
        {
          "output_type": "stream",
          "name": "stdout",
          "text": [
            "Enter The Word That I am Searching for: psycho\n",
            "P is silent!\n",
            "\n",
            "Enter The Word That I am Searching for: book\n",
            "The word is not the one I am searching. Thank you.\n"
          ]
        }
      ]
    },
    {
      "cell_type": "code",
      "source": [
        "while True:\n",
        "  user_input = input('Enter a name: ')\n",
        "  if len(user_input) == 0:\n",
        "    print('Atleast enter something')\n",
        "    break\n",
        "  elif len(user_input) < 4:\n",
        "    print('Name seems too short')\n",
        "  elif len(user_input) > 10:\n",
        "    print('Name seems too long')\n",
        "  else:\n",
        "    print('Name looks good length')\n",
        ""
      ],
      "metadata": {
        "colab": {
          "base_uri": "https://localhost:8080/"
        },
        "id": "7Aoe-n3uuUWA",
        "outputId": "22fe41e7-b035-4d4e-d2b6-94d81bae277d"
      },
      "execution_count": 29,
      "outputs": [
        {
          "output_type": "stream",
          "name": "stdout",
          "text": [
            "Enter a name: s\n",
            "Name seems too short\n",
            "Enter a name: \n",
            "Atleast enter something\n",
            "Enter a name: arik\n",
            "Name looks good length\n"
          ]
        }
      ]
    },
    {
      "cell_type": "code",
      "source": [
        "while True:\n",
        "  user_input = input('Enter a name: ')\n",
        "  if len(user_input) < 4:\n",
        "    if len(user_input) == 0:\n",
        "      print('Atleast enter something')\n",
        "      break\n",
        "    else:\n",
        "      print('Name seems too short')\n",
        "  else:\n",
        "    if len(user_input) > 10:\n",
        "      print('Name seems too long')\n",
        "    else:\n",
        "      print('Name looks good length')"
      ],
      "metadata": {
        "colab": {
          "base_uri": "https://localhost:8080/"
        },
        "id": "MaQtF_cpy4wi",
        "outputId": "15dec713-3a45-4fbd-ad0a-1a5ddf54dbc0"
      },
      "execution_count": 30,
      "outputs": [
        {
          "output_type": "stream",
          "name": "stdout",
          "text": [
            "Enter a name: arik\n",
            "Name looks good length\n",
            "Enter a name: \n",
            "Atleast enter something\n"
          ]
        }
      ]
    }
  ]
}