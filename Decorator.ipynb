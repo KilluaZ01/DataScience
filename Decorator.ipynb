{
  "nbformat": 4,
  "nbformat_minor": 0,
  "metadata": {
    "colab": {
      "provenance": []
    },
    "kernelspec": {
      "name": "python3",
      "display_name": "Python 3"
    },
    "language_info": {
      "name": "python"
    }
  },
  "cells": [
    {
      "cell_type": "code",
      "execution_count": null,
      "metadata": {
        "colab": {
          "base_uri": "https://localhost:8080/"
        },
        "id": "m_VeYP3O1RF2",
        "outputId": "4e1cbe0b-0eea-477f-ba59-af6b1082f323"
      },
      "outputs": [
        {
          "output_type": "stream",
          "name": "stdout",
          "text": [
            "hello\n"
          ]
        }
      ],
      "source": [
        "def greet(func):\n",
        "  func()\n",
        "\n",
        "def hello():\n",
        "  print(\"hello\")\n",
        "\n",
        "a = greet(hello)\n",
        "a"
      ]
    },
    {
      "cell_type": "code",
      "source": [
        "# Decorators\n",
        "def my_decorator(func):\n",
        "  def wrap_func():\n",
        "    print('****')\n",
        "    func()\n",
        "    print('********')\n",
        "  return wrap_func\n",
        "\n",
        "@my_decorator\n",
        "def helloo():\n",
        "  print('Hello there')\n",
        "helloo()"
      ],
      "metadata": {
        "colab": {
          "base_uri": "https://localhost:8080/"
        },
        "id": "4kyVAuUq14z7",
        "outputId": "4153f841-b2c5-4c64-d425-be5110f7056a"
      },
      "execution_count": null,
      "outputs": [
        {
          "output_type": "stream",
          "name": "stdout",
          "text": [
            "****\n",
            "Hello there\n",
            "********\n"
          ]
        }
      ]
    },
    {
      "cell_type": "code",
      "source": [
        "@my_decorator\n",
        "def bye():\n",
        "  print('Bye')\n",
        "bye()"
      ],
      "metadata": {
        "colab": {
          "base_uri": "https://localhost:8080/"
        },
        "id": "p_08nTlE2is3",
        "outputId": "58cca006-b389-4789-a5e0-725eaeebd839"
      },
      "execution_count": null,
      "outputs": [
        {
          "output_type": "stream",
          "name": "stdout",
          "text": [
            "****\n",
            "Bye\n",
            "********\n"
          ]
        }
      ]
    },
    {
      "cell_type": "code",
      "source": [
        "# Under the hood/ Behind the scene\n",
        "\n",
        "def helloo():\n",
        "  print('Hello there')\n",
        "\n",
        "hello2 = my_decorator(helloo)\n",
        "hello2()"
      ],
      "metadata": {
        "colab": {
          "base_uri": "https://localhost:8080/"
        },
        "id": "v5C6e3IX25KZ",
        "outputId": "ed8d54da-7092-4131-fe5f-7b467cbe2c56"
      },
      "execution_count": null,
      "outputs": [
        {
          "output_type": "stream",
          "name": "stdout",
          "text": [
            "****\n",
            "Hello there\n",
            "********\n"
          ]
        }
      ]
    },
    {
      "cell_type": "code",
      "source": [
        "def my_decorator(func):\n",
        "  def wrap_func(x, y):\n",
        "    print('**')\n",
        "    func(x,y)\n",
        "    print('****')\n",
        "  return wrap_func\n",
        "\n",
        "@my_decorator\n",
        "def hello(greeting, emoji):\n",
        "  print(greeting, emoji)\n",
        "hello('Namaste', 81)\n",
        "\n",
        "def hello(greeting, emoji):\n",
        "  print(greeting, emoji)\n",
        "\n",
        "new = my_decorator(hello)\n",
        "new('Namaste', 88)"
      ],
      "metadata": {
        "colab": {
          "base_uri": "https://localhost:8080/"
        },
        "id": "l4A1J2si4gww",
        "outputId": "6b4481d0-78b1-4d5d-e998-0e08c1b5f47d"
      },
      "execution_count": 4,
      "outputs": [
        {
          "output_type": "stream",
          "name": "stdout",
          "text": [
            "**\n",
            "Namaste 88\n",
            "****\n"
          ]
        }
      ]
    },
    {
      "cell_type": "code",
      "source": [
        "# Why do we need decorators?\n",
        "\n",
        "from types import WrapperDescriptorType\n",
        "from time import time\n",
        "\n",
        "def time_taken(fn):\n",
        "  def wrapper(*a, **b):\n",
        "    t1 = time()\n",
        "    result = fn(*a, **b)\n",
        "    t2 = time()\n",
        "    print(f'took {t2 - t1} seconds')\n",
        "    return result\n",
        "  return wrapper\n",
        "\n",
        "@time_taken\n",
        "def check_time():\n",
        "  for i in range(10):\n",
        "    print(i*5)\n",
        "check_time()"
      ],
      "metadata": {
        "id": "RtZo-_758fDY",
        "colab": {
          "base_uri": "https://localhost:8080/"
        },
        "outputId": "c0b6d6a6-c8fb-4631-d99c-0e06adc4a927"
      },
      "execution_count": 14,
      "outputs": [
        {
          "output_type": "stream",
          "name": "stdout",
          "text": [
            "0\n",
            "5\n",
            "10\n",
            "15\n",
            "20\n",
            "25\n",
            "30\n",
            "35\n",
            "40\n",
            "45\n",
            "took 0.00010991096496582031 seconds\n"
          ]
        }
      ]
    },
    {
      "cell_type": "code",
      "source": [
        "# Random Module\n",
        "import random\n",
        "random.random()\n"
      ],
      "metadata": {
        "colab": {
          "base_uri": "https://localhost:8080/"
        },
        "id": "J-XIgzRYERHa",
        "outputId": "1b3e9bfa-a3ea-4c0d-a933-a3e5fd6f5875"
      },
      "execution_count": 15,
      "outputs": [
        {
          "output_type": "execute_result",
          "data": {
            "text/plain": [
              "0.04117104130518645"
            ]
          },
          "metadata": {},
          "execution_count": 15
        }
      ]
    },
    {
      "cell_type": "code",
      "source": [
        "# random.randint(1,10)\n",
        "random.randrange(1,50)"
      ],
      "metadata": {
        "colab": {
          "base_uri": "https://localhost:8080/"
        },
        "id": "2kTUtaqIEX7Z",
        "outputId": "17278a90-e9ee-4bac-ca16-6706217bbf2e"
      },
      "execution_count": 33,
      "outputs": [
        {
          "output_type": "execute_result",
          "data": {
            "text/plain": [
              "34"
            ]
          },
          "metadata": {},
          "execution_count": 33
        }
      ]
    },
    {
      "cell_type": "code",
      "source": [
        "leaders = ['ram', 'shyam', 'nima', 'roshan', 'pawan']\n",
        "\n",
        "monitor = random.choice(leaders)\n",
        "print(monitor)"
      ],
      "metadata": {
        "colab": {
          "base_uri": "https://localhost:8080/"
        },
        "id": "9fzuKJ6FEoWT",
        "outputId": "349f26fc-45d6-4232-8dd4-751fb60321eb"
      },
      "execution_count": 25,
      "outputs": [
        {
          "output_type": "stream",
          "name": "stdout",
          "text": [
            "pawan\n"
          ]
        }
      ]
    },
    {
      "cell_type": "code",
      "source": [],
      "metadata": {
        "id": "Kv8vA1d5FkmK"
      },
      "execution_count": null,
      "outputs": []
    },
    {
      "cell_type": "code",
      "source": [
        "# Make a function named dice, which would have 2 boxes, and return the value as (4,5)\n",
        "\n",
        "def dice():\n",
        "  a = random.randint(1,6)\n",
        "  b = random.randint(1,6)\n",
        "  return a,b\n",
        "\n",
        "print(dice())"
      ],
      "metadata": {
        "colab": {
          "base_uri": "https://localhost:8080/"
        },
        "id": "OAN0t2HMFeiT",
        "outputId": "0b7733af-9240-4840-add4-90fb20844a9d"
      },
      "execution_count": 56,
      "outputs": [
        {
          "output_type": "stream",
          "name": "stdout",
          "text": [
            "(1, 6)\n"
          ]
        }
      ]
    },
    {
      "cell_type": "code",
      "source": [
        "# File I/O\n",
        "\n",
        "# mkdir\n",
        "# cd\n",
        "# dir"
      ],
      "metadata": {
        "id": "kG0wklzLGu-a"
      },
      "execution_count": null,
      "outputs": []
    }
  ]
}