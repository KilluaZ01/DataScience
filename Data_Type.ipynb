{
  "nbformat": 4,
  "nbformat_minor": 0,
  "metadata": {
    "colab": {
      "provenance": []
    },
    "kernelspec": {
      "name": "python3",
      "display_name": "Python 3"
    },
    "language_info": {
      "name": "python"
    }
  },
  "cells": [
    {
      "cell_type": "code",
      "source": [
        "# Single Line String\n",
        "print('Hello World')"
      ],
      "metadata": {
        "colab": {
          "base_uri": "https://localhost:8080/"
        },
        "id": "Bn9OQEWAfhyv",
        "outputId": "9279339b-f9eb-4653-a833-0a8650d1fbbc"
      },
      "execution_count": null,
      "outputs": [
        {
          "output_type": "stream",
          "name": "stdout",
          "text": [
            "Hello World\n"
          ]
        }
      ]
    },
    {
      "cell_type": "code",
      "source": [
        "print('\"Hello\"')"
      ],
      "metadata": {
        "colab": {
          "base_uri": "https://localhost:8080/"
        },
        "id": "GnanZQGkgzRk",
        "outputId": "93759959-a867-4d8a-c4e1-86aa0d0b0f58"
      },
      "execution_count": null,
      "outputs": [
        {
          "output_type": "stream",
          "name": "stdout",
          "text": [
            "\"Hello\"\n"
          ]
        }
      ]
    },
    {
      "cell_type": "code",
      "source": [
        "print(\"'Hello'\")"
      ],
      "metadata": {
        "colab": {
          "base_uri": "https://localhost:8080/"
        },
        "id": "BTYqXBSgg5es",
        "outputId": "c23f9677-b567-415d-a24f-a3bf0b5c033c"
      },
      "execution_count": null,
      "outputs": [
        {
          "output_type": "stream",
          "name": "stdout",
          "text": [
            "'Hello'\n"
          ]
        }
      ]
    },
    {
      "cell_type": "code",
      "source": [
        "print('It is very \"cold\"')"
      ],
      "metadata": {
        "colab": {
          "base_uri": "https://localhost:8080/"
        },
        "id": "CaQ2BlwwhJ1r",
        "outputId": "6aeae137-62fb-4abe-d11b-508c94e482df"
      },
      "execution_count": null,
      "outputs": [
        {
          "output_type": "stream",
          "name": "stdout",
          "text": [
            "It is very \"cold\"\n"
          ]
        }
      ]
    },
    {
      "cell_type": "code",
      "source": [
        "print('It'\"'s\" ' a \"cold\" day')\n",
        "\n",
        "# Escape Sequence (\\)\n",
        "print('It\\'s a \"cold\" day')\n",
        "print(\"It's a \\\"cold\\\" day\")"
      ],
      "metadata": {
        "colab": {
          "base_uri": "https://localhost:8080/"
        },
        "id": "wHdzIl1ThQ-b",
        "outputId": "6389d573-05e1-4e73-f59c-4efdb6559e84"
      },
      "execution_count": null,
      "outputs": [
        {
          "output_type": "stream",
          "name": "stdout",
          "text": [
            "It's a \"cold\" day\n",
            "It's a \"cold\" day\n",
            "It's a \"cold\" day\n"
          ]
        }
      ]
    },
    {
      "cell_type": "code",
      "source": [
        "# Multiline Strings\n",
        "print('''Hello Guys\n",
        "We are Learning Python\n",
        "and Data Science\\n''')\n",
        "\n",
        "print(\"\"\"Hello Guys\n",
        "We are Learning Python\n",
        "and Data Science\"\"\")"
      ],
      "metadata": {
        "colab": {
          "base_uri": "https://localhost:8080/"
        },
        "id": "WnBS17mtmRA5",
        "outputId": "c0294ce2-8a09-49f3-d05e-df3028c544c2"
      },
      "execution_count": null,
      "outputs": [
        {
          "output_type": "stream",
          "name": "stdout",
          "text": [
            "Hello Guys\n",
            "We are Learning Python\n",
            "and Data Science\n",
            "\n",
            "Hello Guys\n",
            "We are Learning Python\n",
            "and Data Science\n"
          ]
        }
      ]
    },
    {
      "cell_type": "code",
      "source": [
        "print(type(2+4))\n",
        "print(type(2.5+2.5))\n",
        "print(type(2*4))"
      ],
      "metadata": {
        "colab": {
          "base_uri": "https://localhost:8080/"
        },
        "id": "KvHLmXRph70n",
        "outputId": "342b13c9-9300-4932-8e66-2efb5d4d939e"
      },
      "execution_count": null,
      "outputs": [
        {
          "output_type": "stream",
          "name": "stdout",
          "text": [
            "<class 'int'>\n",
            "<class 'float'>\n",
            "<class 'int'>\n"
          ]
        }
      ]
    },
    {
      "cell_type": "code",
      "source": [
        "print(bool(1))\n",
        "print(bool(0))\n",
        "print(bool(40))\n",
        "print(bool(-1))\n",
        "print(bool())\n",
        "print(bool(False))\n",
        "print(bool(0.1))\n",
        "print(bool([0]))\n",
        "print(bool(1-1))\n",
        "print(bool([]))\n",
        "print(bool(['']))\n",
        "print(bool(()))"
      ],
      "metadata": {
        "colab": {
          "base_uri": "https://localhost:8080/"
        },
        "id": "utFN7unpjl2F",
        "outputId": "9432eb46-8d8e-4a67-9558-2a93690a6818"
      },
      "execution_count": null,
      "outputs": [
        {
          "output_type": "stream",
          "name": "stdout",
          "text": [
            "True\n",
            "False\n",
            "True\n",
            "True\n",
            "False\n",
            "False\n",
            "True\n",
            "True\n",
            "False\n",
            "False\n",
            "True\n",
            "False\n"
          ]
        }
      ]
    },
    {
      "cell_type": "code",
      "source": [
        "#Strings\n",
        "Text = \"We are learning Python\"\n",
        "\n",
        "#Indexing (Accessing Element Throught Integer Value)\n",
        "print(Text[0])\n",
        "print(Text[1])\n",
        "print(Text[-1])\n",
        "print(Text[-2])\n",
        "\n",
        "#Slicing (Accessing Certain Part of Strings)\n",
        "print(Text[0:5])\n",
        "print(Text[2:6])\n",
        "print(Text[:5])\n",
        "print(Text[-1:])\n",
        "print(Text[5:-1])\n"
      ],
      "metadata": {
        "colab": {
          "base_uri": "https://localhost:8080/"
        },
        "id": "KiYq4EEyj1gJ",
        "outputId": "5742acbd-613a-4981-bff8-108ac09b75af"
      },
      "execution_count": null,
      "outputs": [
        {
          "output_type": "stream",
          "name": "stdout",
          "text": [
            "W\n",
            "e\n",
            "n\n",
            "o\n",
            "We ar\n",
            " are\n",
            "We ar\n",
            "n\n",
            "e learning Pytho\n"
          ]
        }
      ]
    },
    {
      "cell_type": "code",
      "source": [
        "# Methods are the functions that is specific to centain objects\n",
        "\n",
        "print(Text.upper())\n",
        "print(Text.lower())\n",
        "print(Text.find('are'))\n",
        "print(Text.replace('Python','Data Science'))\n"
      ],
      "metadata": {
        "colab": {
          "base_uri": "https://localhost:8080/"
        },
        "id": "beuUdtD4qbZt",
        "outputId": "27f6f4f4-6889-4e8c-8d75-7b6384000a2c"
      },
      "execution_count": null,
      "outputs": [
        {
          "output_type": "stream",
          "name": "stdout",
          "text": [
            "WE ARE LEARNING PYTHON\n",
            "we are learning python\n",
            "3\n",
            "We are learning Data Science\n"
          ]
        }
      ]
    },
    {
      "cell_type": "code",
      "source": [
        "# Built-in Functions\n",
        "print(len(Text))\n",
        "print(type(Text))"
      ],
      "metadata": {
        "colab": {
          "base_uri": "https://localhost:8080/"
        },
        "id": "Dc7PPZRps6hE",
        "outputId": "d407e3b6-0626-40e2-db4b-f0054b4564f4"
      },
      "execution_count": null,
      "outputs": [
        {
          "output_type": "stream",
          "name": "stdout",
          "text": [
            "22\n",
            "<class 'str'>\n"
          ]
        }
      ]
    },
    {
      "cell_type": "code",
      "source": [
        "# List\n",
        "items = [1, 'ram', True, 'True', 2.5]\n",
        "\n",
        "# Indexing\n",
        "print(items[0])\n",
        "print(items[-1])\n",
        "\n",
        "# Slicing\n",
        "print(items[0:2])\n",
        "print(items[::-1])\n",
        "print(items)\n",
        "\n",
        "# Methods\n",
        "item = [1, 2.5]\n",
        "item.append(40)\n",
        "print(item)\n",
        "print(item.index(1))\n"
      ],
      "metadata": {
        "colab": {
          "base_uri": "https://localhost:8080/"
        },
        "id": "KAx8zIfBskAG",
        "outputId": "08564b7d-b0c7-4b9f-b469-74fac5f6dc59"
      },
      "execution_count": null,
      "outputs": [
        {
          "output_type": "stream",
          "name": "stdout",
          "text": [
            "1\n",
            "2.5\n",
            "[1, 'ram']\n",
            "[2.5, 'True', True, 'ram', 1]\n",
            "[1, 'ram', True, 'True', 2.5]\n",
            "[1, 2.5, 40]\n",
            "0\n"
          ]
        }
      ]
    },
    {
      "cell_type": "code",
      "source": [],
      "metadata": {
        "id": "TPRCuEpNtbRR"
      },
      "execution_count": null,
      "outputs": []
    }
  ]
}