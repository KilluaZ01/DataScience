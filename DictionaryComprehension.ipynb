{
  "nbformat": 4,
  "nbformat_minor": 0,
  "metadata": {
    "colab": {
      "provenance": []
    },
    "kernelspec": {
      "name": "python3",
      "display_name": "Python 3"
    },
    "language_info": {
      "name": "python"
    }
  },
  "cells": [
    {
      "cell_type": "code",
      "execution_count": 1,
      "metadata": {
        "colab": {
          "base_uri": "https://localhost:8080/"
        },
        "id": "QSQS_J67o9K1",
        "outputId": "3c929625-57da-4df6-8c1c-c76615e34a97"
      },
      "outputs": [
        {
          "output_type": "execute_result",
          "data": {
            "text/plain": [
              "{1, 2, 3, 4}"
            ]
          },
          "metadata": {},
          "execution_count": 1
        }
      ],
      "source": [
        "# Set comprehension\n",
        "\n",
        "my_set = {2,1,2,3,4}\n",
        "\n",
        "item = {a for a in my_set}\n",
        "item"
      ]
    },
    {
      "cell_type": "code",
      "source": [
        "my_value = [1,2,3,4]\n",
        "\n",
        "item = {a for a in my_value if a % 2 == 0}\n",
        "\n",
        "item"
      ],
      "metadata": {
        "colab": {
          "base_uri": "https://localhost:8080/"
        },
        "id": "OEi_K7s_pGgV",
        "outputId": "2888bfcb-1735-469d-edde-4073f777d3e1"
      },
      "execution_count": 2,
      "outputs": [
        {
          "output_type": "execute_result",
          "data": {
            "text/plain": [
              "{2, 4}"
            ]
          },
          "metadata": {},
          "execution_count": 2
        }
      ]
    },
    {
      "cell_type": "code",
      "source": [
        "my_list = [char for char in 'Hello']\n",
        "print(my_list)"
      ],
      "metadata": {
        "colab": {
          "base_uri": "https://localhost:8080/"
        },
        "id": "0VrOizk_pVtP",
        "outputId": "1b3aa4a7-626f-435e-d340-835ade05641f"
      },
      "execution_count": 3,
      "outputs": [
        {
          "output_type": "stream",
          "name": "stdout",
          "text": [
            "['H', 'e', 'l', 'l', 'o']\n"
          ]
        }
      ]
    },
    {
      "cell_type": "code",
      "source": [
        "# Dictionary Comprehension\n",
        "\n",
        "simple_dict = {\n",
        "    'a': 2,\n",
        "    'b': 3\n",
        "}\n",
        "\n",
        "new_dict = {key: value**2 for key, value in simple_dict.items()}\n",
        "new_dict1 = {key: value**2 for key, value in simple_dict.items() if value % 2 == 0}\n",
        "x = simple_dict.values()\n",
        "\n",
        "new_list = [a for a in x if a % 2 == 0]\n",
        "\n",
        "# new_dict2 = {key: value**2 for key, value in simple_dict.items if value == new_list}\n",
        "\n",
        "# print(new_list2)\n",
        "\n",
        "sq_even = {x:y**2 if y % 2 == 0 else y for x,y in simple_dict.items()}\n",
        "print(sq_even)"
      ],
      "metadata": {
        "colab": {
          "base_uri": "https://localhost:8080/"
        },
        "id": "moNkIGigphgs",
        "outputId": "8f20a360-e5f2-4897-d927-e1d29333fe08"
      },
      "execution_count": 29,
      "outputs": [
        {
          "output_type": "stream",
          "name": "stdout",
          "text": [
            "{'a': 4, 'b': 3}\n"
          ]
        }
      ]
    },
    {
      "cell_type": "code",
      "source": [
        "num_dict = {num * 2: num ** 2 for num in [1,2,3]}\n",
        "print(num_dict)"
      ],
      "metadata": {
        "colab": {
          "base_uri": "https://localhost:8080/"
        },
        "id": "6XOCgNLcs54R",
        "outputId": "9f868029-55bd-4b6a-a211-4a7aa20d09ac"
      },
      "execution_count": 31,
      "outputs": [
        {
          "output_type": "stream",
          "name": "stdout",
          "text": [
            "{2: 1, 4: 4, 6: 9}\n"
          ]
        }
      ]
    },
    {
      "cell_type": "code",
      "source": [
        "# Dictionary Comprehension (using list and converting back to dictionary)\n",
        "\n",
        "simple_dictionary = {\n",
        "    'a': 2,\n",
        "    'b': 3\n",
        "}\n",
        "\n",
        "new_dict = dict([(key,value**2) for (key,value) in simple_dictionary.items()])\n",
        "print(new_dict)\n",
        "\n",
        "new_dict1 = dict([(key,value**2) for (key,value) in simple_dictionary.items() if value % 2 == 0])\n",
        "print(new_dict1)\n",
        "\n",
        "new_dict2 = dict([(key,value**2) if value % 2 == 0 else (key,value) for (key,value) in simple_dictionary.items() ])\n",
        "print(new_dict2)"
      ],
      "metadata": {
        "colab": {
          "base_uri": "https://localhost:8080/"
        },
        "id": "4ZbSUmaFtRr4",
        "outputId": "d46a55e1-b090-49f5-bc6f-cdd88530ece9"
      },
      "execution_count": 54,
      "outputs": [
        {
          "output_type": "stream",
          "name": "stdout",
          "text": [
            "{'a': 4, 'b': 9}\n",
            "{'a': 4}\n",
            "{'a': 4, 'b': 3}\n"
          ]
        }
      ]
    },
    {
      "cell_type": "code",
      "source": [
        "num_dict = dict((num + 2, num ** 2) for num in [1,2,3])\n",
        "\n",
        "print(num_dict)"
      ],
      "metadata": {
        "colab": {
          "base_uri": "https://localhost:8080/"
        },
        "id": "AcBiqzz3xGnA",
        "outputId": "8426945d-f709-430d-b33b-7916087c5222"
      },
      "execution_count": 55,
      "outputs": [
        {
          "output_type": "stream",
          "name": "stdout",
          "text": [
            "{3: 1, 4: 4, 5: 9}\n"
          ]
        }
      ]
    },
    {
      "cell_type": "code",
      "source": [
        "# WAP to sort the list [4,3,5,1]\n",
        "\n",
        "list = [4,3,5,1]\n",
        "\n",
        "list.sort()\n",
        "print(list)"
      ],
      "metadata": {
        "colab": {
          "base_uri": "https://localhost:8080/"
        },
        "id": "1vWT23rUyiOH",
        "outputId": "a4716785-d4ac-4b6a-eb07-92ffd301f065"
      },
      "execution_count": 56,
      "outputs": [
        {
          "output_type": "stream",
          "name": "stdout",
          "text": [
            "[1, 3, 4, 5]\n"
          ]
        }
      ]
    },
    {
      "cell_type": "code",
      "source": [
        "# WAP to print the sq num using lambda [1,2,3,4]    [1,4,9,16]\n",
        "\n",
        "list1 = [1,2,3,4]\n",
        "\n",
        "print(list(map(lambda x: x ** 2, list1)))"
      ],
      "metadata": {
        "colab": {
          "base_uri": "https://localhost:8080/"
        },
        "id": "r1NikCN6ysSY",
        "outputId": "7ea5f033-872d-4184-aa75-3f0464897152"
      },
      "execution_count": 3,
      "outputs": [
        {
          "output_type": "stream",
          "name": "stdout",
          "text": [
            "[1, 4, 9, 16]\n"
          ]
        }
      ]
    },
    {
      "cell_type": "code",
      "source": [
        "# WAP to sort the list of tuples (use 2nd key, using lamda)\n",
        "\n",
        "list_tuple = [(1,4), (2,2)]\n",
        "\n",
        "list_tuple.sort(key = lambda x:x[1])\n",
        "print(list_tuple)"
      ],
      "metadata": {
        "colab": {
          "base_uri": "https://localhost:8080/"
        },
        "id": "G-33e_8nztVE",
        "outputId": "9650280b-0f16-485d-c6a5-a648b4763282"
      },
      "execution_count": 27,
      "outputs": [
        {
          "output_type": "stream",
          "name": "stdout",
          "text": [
            "[(2, 2), (1, 4)]\n"
          ]
        }
      ]
    },
    {
      "cell_type": "code",
      "source": [
        "my_tup = [(2,4,2), (2,5,1), (1,8,3)]\n",
        "\n",
        "my_tup.sort(key = lambda x:x[2])\n",
        "print(my_tup)"
      ],
      "metadata": {
        "colab": {
          "base_uri": "https://localhost:8080/"
        },
        "id": "hSdLR2id3Cpe",
        "outputId": "35a74da2-4dc0-4fa4-9983-585c94242b98"
      },
      "execution_count": 28,
      "outputs": [
        {
          "output_type": "stream",
          "name": "stdout",
          "text": [
            "[(2, 5, 1), (2, 4, 2), (1, 8, 3)]\n"
          ]
        }
      ]
    },
    {
      "cell_type": "code",
      "source": [
        "# Decorators (used to decorate the function)\n",
        "\n",
        "def hello():\n",
        "  print('hello')\n",
        "\n",
        "greet = hello()\n",
        "\n",
        "greet\n",
        "\n",
        "def hello(func):\n",
        "  func()\n",
        "\n",
        "def greet():\n",
        "  print('still here')\n",
        "\n",
        "a = hello(greet)\n",
        "a"
      ],
      "metadata": {
        "colab": {
          "base_uri": "https://localhost:8080/"
        },
        "id": "hD0rIIxN3cPy",
        "outputId": "5dbb552e-26b1-48b0-90b4-9197bb196e02"
      },
      "execution_count": 60,
      "outputs": [
        {
          "output_type": "stream",
          "name": "stdout",
          "text": [
            "hello\n",
            "still here\n"
          ]
        }
      ]
    },
    {
      "cell_type": "code",
      "source": [
        "# Higher Order Function: Function that accepts or returns another function called HOP\n",
        "# Map, Filter, Reduce are all HOF\n",
        "\n",
        "def greet(func):\n",
        "  func()\n",
        "\n",
        "def greet2(func):\n",
        "  def func():\n",
        "    return 5\n",
        "  return func"
      ],
      "metadata": {
        "id": "Y5ctg--I6qWa"
      },
      "execution_count": null,
      "outputs": []
    },
    {
      "cell_type": "code",
      "source": [
        "# Decorators\n",
        "\n",
        "def my_decorator(func):\n",
        "  def wrap_func():\n",
        "    func()"
      ],
      "metadata": {
        "id": "MqQiqC0n7O6H"
      },
      "execution_count": null,
      "outputs": []
    }
  ]
}