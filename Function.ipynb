{
  "nbformat": 4,
  "nbformat_minor": 0,
  "metadata": {
    "colab": {
      "provenance": []
    },
    "kernelspec": {
      "name": "python3",
      "display_name": "Python 3"
    },
    "language_info": {
      "name": "python"
    }
  },
  "cells": [
    {
      "cell_type": "code",
      "execution_count": null,
      "metadata": {
        "colab": {
          "base_uri": "https://localhost:8080/"
        },
        "id": "4ebtEIku6QXa",
        "outputId": "29b26ddf-10f8-4e06-bffb-c9743cea86be"
      },
      "outputs": [
        {
          "output_type": "stream",
          "name": "stdout",
          "text": [
            "Enter your birth year2003\n",
            "Your risk is 4.545454545454546\n",
            "Please analyze your risk report\n"
          ]
        }
      ],
      "source": [
        "try:\n",
        "  birth_year = int(input('Enter your birth year'))\n",
        "  age = 2025 - birth_year\n",
        "  risk = 100/ age\n",
        "  print('Your risk is', risk)\n",
        "except ValueError:\n",
        "  print('Your date of birth is not number')\n",
        "except ZeroDivisionError:\n",
        "  print('Your age cant be zero')\n",
        "else:\n",
        "  print('Please analyze your risk report')    # Will only run once after the try block runs"
      ]
    },
    {
      "cell_type": "code",
      "source": [
        "try:\n",
        "  birth_year = int(input('Enter your birth year'))\n",
        "  age = 2025 - birth_year\n",
        "  risk = 100/ age\n",
        "  print('Your risk is', risk)\n",
        "  print('Please analyze your risk report')    # Will run as much as if there is a loop\n",
        "except ValueError:\n",
        "  print('Your date of birth is not number')\n",
        "except ZeroDivisionError:\n",
        "  print('Your age cant be zero')\n",
        "else:\n",
        "  print('Please analyze your risk report')\n",
        "finally:\n",
        "  print('Thank you')"
      ],
      "metadata": {
        "colab": {
          "base_uri": "https://localhost:8080/"
        },
        "id": "VCfCivfv73rL",
        "outputId": "781eb0f0-6e63-41ac-ad84-5303288aea9a"
      },
      "execution_count": null,
      "outputs": [
        {
          "output_type": "stream",
          "name": "stdout",
          "text": [
            "Enter your birth yearram\n",
            "Your date of birth is not number\n",
            "Thank you\n"
          ]
        }
      ]
    },
    {
      "cell_type": "code",
      "source": [
        "while True:\n",
        "  try:\n",
        "    birth_year = int(input('Enter your birth year: '))\n",
        "    age = 2025 - birth_year\n",
        "    risk = 100/ age\n",
        "    print('Your risk is', risk)\n",
        "  except ValueError:\n",
        "      print('Your date of birth is not number')\n",
        "  except ZeroDivisionError:   # Breaks the whole while loop\n",
        "      print('Your age cant be zero')\n",
        "      break\n",
        "  else:\n",
        "      print('Please analyze your risk report')\n",
        "  finally:\n",
        "      print('Thank you')"
      ],
      "metadata": {
        "colab": {
          "base_uri": "https://localhost:8080/"
        },
        "id": "EJUPlCMg8KgY",
        "outputId": "bbfc8308-cf6b-4776-a169-f15ade806d0f"
      },
      "execution_count": null,
      "outputs": [
        {
          "output_type": "stream",
          "name": "stdout",
          "text": [
            "Enter your birth year2003\n",
            "Your risk is 4.545454545454546\n",
            "Please analyze your risk report\n",
            "Thank you\n",
            "Enter your birth year2020\n",
            "Your risk is 20.0\n",
            "Please analyze your risk report\n",
            "Thank you\n",
            "Enter your birth year2025\n",
            "Your age cant be zero\n",
            "Thank you\n"
          ]
        }
      ]
    },
    {
      "cell_type": "code",
      "source": [
        "# Function is a useful block of code, that can be used repeatedly\n",
        "def greet():\n",
        "  print('Hello')\n",
        "  print('How are you?')\n",
        "  print('Bye')\n",
        "\n",
        "greet()"
      ],
      "metadata": {
        "colab": {
          "base_uri": "https://localhost:8080/"
        },
        "id": "dQ2RCpI5_FdB",
        "outputId": "4e29f673-2577-458e-fa90-1cd6eb0410d2"
      },
      "execution_count": null,
      "outputs": [
        {
          "output_type": "stream",
          "name": "stdout",
          "text": [
            "Hello\n",
            "How are you?\n",
            "Bye\n"
          ]
        }
      ]
    },
    {
      "cell_type": "code",
      "source": [
        "# Parameters\n",
        "def greet(name):\n",
        "  print('Hello', name)\n",
        "  print('Welcome', name)\n",
        "  print('Tea or coffee', name)\n",
        "\n",
        "name = 'Arik'\n",
        "greet(name)"
      ],
      "metadata": {
        "colab": {
          "base_uri": "https://localhost:8080/"
        },
        "id": "UpG2n4mWBsVt",
        "outputId": "ed104a0f-111b-46c3-9de0-2f7d21405dfd"
      },
      "execution_count": null,
      "outputs": [
        {
          "output_type": "stream",
          "name": "stdout",
          "text": [
            "Hello Arik\n",
            "Welcome Arik\n",
            "Tea or coffee Arik\n"
          ]
        }
      ]
    },
    {
      "cell_type": "code",
      "source": [
        "def greet(name = 'arik'):\n",
        "  print(name)\n",
        "\n",
        "greet()\n",
        "greet('zidan')"
      ],
      "metadata": {
        "colab": {
          "base_uri": "https://localhost:8080/"
        },
        "id": "e4CP5ItxEIu2",
        "outputId": "e8804c44-5039-4342-f48c-d043aab248d2"
      },
      "execution_count": null,
      "outputs": [
        {
          "output_type": "stream",
          "name": "stdout",
          "text": [
            "arik\n",
            "zidan\n"
          ]
        }
      ]
    },
    {
      "cell_type": "code",
      "source": [
        "def sujanchor(name = 'arik', age = 20):\n",
        "    print('Hello '+ name)\n",
        "    print(f'You are {age} years old')\n",
        "\n",
        "sujanchor('sujan', 20)\n",
        "sujanchor()\n",
        "sujanchor(age = 20)   # Keyword Arguement"
      ],
      "metadata": {
        "colab": {
          "base_uri": "https://localhost:8080/"
        },
        "id": "jTDpD2E-Kknu",
        "outputId": "9fd2efae-e58b-4e26-8f6a-5b58716b2521"
      },
      "execution_count": 10,
      "outputs": [
        {
          "output_type": "stream",
          "name": "stdout",
          "text": [
            "Hello sujan\n",
            "You are 20 years old\n",
            "Hello arik\n",
            "You are 20 years old\n",
            "Hello arik\n",
            "You are 20 years old\n"
          ]
        }
      ]
    },
    {
      "cell_type": "code",
      "source": [
        "# Return Statement\n",
        "\n",
        "def greet(fname, age):\n",
        "  return 'Hello ' + fname\n",
        "  return f'You are {age} years old, right?'   # Above returh exits the function, so this line is useless\n",
        "\n",
        "print(greet('ram', 20))"
      ],
      "metadata": {
        "colab": {
          "base_uri": "https://localhost:8080/"
        },
        "id": "1RL1_FDEKoyt",
        "outputId": "c4558df2-a6ea-4297-a793-2cec214ec716"
      },
      "execution_count": 12,
      "outputs": [
        {
          "output_type": "stream",
          "name": "stdout",
          "text": [
            "Hello ram\n"
          ]
        }
      ]
    },
    {
      "cell_type": "code",
      "source": [
        "def num():\n",
        "  print(2024)\n",
        "\n",
        "num()"
      ],
      "metadata": {
        "colab": {
          "base_uri": "https://localhost:8080/"
        },
        "id": "uqmmgNogMF8y",
        "outputId": "bf23418e-afd2-44e4-a450-7ac189701776"
      },
      "execution_count": 15,
      "outputs": [
        {
          "output_type": "stream",
          "name": "stdout",
          "text": [
            "2024\n"
          ]
        }
      ]
    },
    {
      "cell_type": "code",
      "source": [
        "def num():\n",
        "  return 2024\n",
        "\n",
        "print(num())"
      ],
      "metadata": {
        "colab": {
          "base_uri": "https://localhost:8080/"
        },
        "id": "RPenKMPWMM8T",
        "outputId": "4fef9906-d2a2-4e44-ba78-47ee76a2f877"
      },
      "execution_count": 13,
      "outputs": [
        {
          "output_type": "stream",
          "name": "stdout",
          "text": [
            "2024\n"
          ]
        }
      ]
    },
    {
      "cell_type": "code",
      "source": [
        "def is_even(num):\n",
        "  if num % 2 == 0:\n",
        "    return True\n",
        "  else:\n",
        "    return False\n",
        "\n",
        "print(is_even(20))"
      ],
      "metadata": {
        "colab": {
          "base_uri": "https://localhost:8080/"
        },
        "id": "kOGfd3qmMWvX",
        "outputId": "0776e4bc-392f-4aca-f14d-84d70c5bbdc0"
      },
      "execution_count": 19,
      "outputs": [
        {
          "output_type": "stream",
          "name": "stdout",
          "text": [
            "True\n"
          ]
        }
      ]
    },
    {
      "cell_type": "code",
      "source": [
        "def is_even(num):\n",
        "  if num % 2 == 0:\n",
        "    return True\n",
        "  return False\n",
        "\n",
        "print(is_even(20))"
      ],
      "metadata": {
        "colab": {
          "base_uri": "https://localhost:8080/"
        },
        "id": "Qe5-hRxNO_8L",
        "outputId": "a1e5ed26-80d2-49ea-b947-56d895f002bb"
      },
      "execution_count": 22,
      "outputs": [
        {
          "output_type": "stream",
          "name": "stdout",
          "text": [
            "True\n"
          ]
        }
      ]
    },
    {
      "cell_type": "code",
      "source": [
        "def is_even(num):\n",
        "  if num % 2 == 0:\n",
        "    print(True)\n",
        "  print(False)\n",
        "\n",
        "is_even(20)"
      ],
      "metadata": {
        "colab": {
          "base_uri": "https://localhost:8080/"
        },
        "id": "q_HFNRCWPCJy",
        "outputId": "35ded056-5256-4cba-9fa5-bd6d12c07b14"
      },
      "execution_count": 21,
      "outputs": [
        {
          "output_type": "stream",
          "name": "stdout",
          "text": [
            "True\n",
            "False\n"
          ]
        }
      ]
    },
    {
      "cell_type": "code",
      "source": [
        "def is_even(num):\n",
        "  return num%2 == 0\n",
        "\n",
        "print(is_even(20))"
      ],
      "metadata": {
        "colab": {
          "base_uri": "https://localhost:8080/"
        },
        "id": "O8uy22iyPlss",
        "outputId": "02e3289e-2d29-47d1-f683-0ea7eeab70a2"
      },
      "execution_count": 23,
      "outputs": [
        {
          "output_type": "stream",
          "name": "stdout",
          "text": [
            "True\n"
          ]
        }
      ]
    },
    {
      "cell_type": "code",
      "source": [
        "def is_even(num):\n",
        "  print(num%2 == 0)\n",
        "\n",
        "is_even(20)"
      ],
      "metadata": {
        "colab": {
          "base_uri": "https://localhost:8080/"
        },
        "id": "gjZrJjaZQSwH",
        "outputId": "72015e43-481d-4a10-ca76-ddcff5ea44ee"
      },
      "execution_count": 24,
      "outputs": [
        {
          "output_type": "stream",
          "name": "stdout",
          "text": [
            "True\n"
          ]
        }
      ]
    }
  ]
}