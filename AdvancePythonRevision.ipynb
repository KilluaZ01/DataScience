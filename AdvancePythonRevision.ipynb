{
  "nbformat": 4,
  "nbformat_minor": 0,
  "metadata": {
    "colab": {
      "provenance": [],
      "authorship_tag": "ABX9TyPHqU3/VPYNjLbLPOfc/J7N",
      "include_colab_link": true
    },
    "kernelspec": {
      "name": "python3",
      "display_name": "Python 3"
    },
    "language_info": {
      "name": "python"
    }
  },
  "cells": [
    {
      "cell_type": "markdown",
      "metadata": {
        "id": "view-in-github",
        "colab_type": "text"
      },
      "source": [
        "<a href=\"https://colab.research.google.com/github/KilluaZ01/DataScience/blob/main/AdvancePythonRevision.ipynb\" target=\"_parent\"><img src=\"https://colab.research.google.com/assets/colab-badge.svg\" alt=\"Open In Colab\"/></a>"
      ]
    },
    {
      "cell_type": "code",
      "execution_count": 16,
      "metadata": {
        "colab": {
          "base_uri": "https://localhost:8080/"
        },
        "id": "qYBGYz76NNKE",
        "outputId": "828dae88-620f-42da-b851-a1ea3fa07534"
      },
      "outputs": [
        {
          "output_type": "stream",
          "name": "stdout",
          "text": [
            "Enter a number: nine, eight, four, one, five, two, one, four, four, four\n",
            "9841521444\n"
          ]
        }
      ],
      "source": [
        "# Make a function name num converter, that would take input from user and makes the digits mapping-> i/p  Nine, Eight Six Five Two -> o/p  98652\n",
        "def num_converter():\n",
        "  list_number = input('Enter a number: ').split(', ')\n",
        "  converted_list = []\n",
        "  converted_dict = {'zero': 0, 'one': 1, 'two': 2, 'three': 3, 'four': 4, 'five': 5, 'six': 6, 'seven': 7, 'eight': 8, 'nine': 9}\n",
        "\n",
        "  converted_list = [str(converted_dict.get(i)) for i in list_number]\n",
        "  print(''.join(converted_list))\n",
        "\n",
        "num_converter()"
      ]
    },
    {
      "cell_type": "code",
      "source": [
        "# WAP to calculate the fibonacci numbers upto 8, making a function/paramenter\n",
        "\n",
        "def fibonacci_numbers(num):\n",
        "  list_fib = [0, 1]\n",
        "\n",
        "  for i in range(num - 2):\n",
        "    list_fib.append(list_fib[-1] + list_fib[-2])\n",
        "\n",
        "  print(list_fib)\n",
        "\n",
        "fibonacci_numbers(9)"
      ],
      "metadata": {
        "colab": {
          "base_uri": "https://localhost:8080/"
        },
        "id": "Hojo-EqvPaOy",
        "outputId": "1a9f3a3a-c65e-4a30-c143-86a0f5b41b2e"
      },
      "execution_count": 21,
      "outputs": [
        {
          "output_type": "stream",
          "name": "stdout",
          "text": [
            "[0, 1, 1, 2, 3, 5, 8, 13, 21]\n"
          ]
        }
      ]
    },
    {
      "cell_type": "code",
      "source": [
        "# WAP to check if the given series is arithmetic or not\n",
        "\n",
        "def arithmetic_checker(num_list):\n",
        "  diff1 = num_list[-1] - num_list[-2]\n",
        "  diff2 = num_list[-2] - num_list[-3]\n",
        "\n",
        "  if diff1 == diff2:\n",
        "    print('Arithmetic Series')\n",
        "  else:\n",
        "    print('Not Arithmetic ')\n",
        "\n",
        "arithmetic_checker([1,3,5,7,10])"
      ],
      "metadata": {
        "colab": {
          "base_uri": "https://localhost:8080/"
        },
        "id": "oa00ootPplkL",
        "outputId": "3d4dbab0-9bdc-4c50-d2db-ba08e4bd49f3"
      },
      "execution_count": 27,
      "outputs": [
        {
          "output_type": "stream",
          "name": "stdout",
          "text": [
            "Not Arithmetic \n"
          ]
        }
      ]
    }
  ]
}