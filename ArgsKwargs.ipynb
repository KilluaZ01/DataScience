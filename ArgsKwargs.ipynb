{
  "nbformat": 4,
  "nbformat_minor": 0,
  "metadata": {
    "colab": {
      "provenance": []
    },
    "kernelspec": {
      "name": "python3",
      "display_name": "Python 3"
    },
    "language_info": {
      "name": "python"
    }
  },
  "cells": [
    {
      "cell_type": "code",
      "execution_count": 6,
      "metadata": {
        "colab": {
          "base_uri": "https://localhost:8080/"
        },
        "id": "SQX_u0pfLXgb",
        "outputId": "efe60f65-8d3a-4a2e-c443-5f921a04c767"
      },
      "outputs": [
        {
          "output_type": "stream",
          "name": "stdout",
          "text": [
            "6\n"
          ]
        }
      ],
      "source": [
        "#WAP to make a function that returns max value of the list (take list as a parameter)\n",
        "\n",
        "def max_list(lst):\n",
        "  lst2 = []\n",
        "  max = lst[0]\n",
        "\n",
        "  for i in lst:\n",
        "    if i > max:\n",
        "      max = i\n",
        "\n",
        "  return max\n",
        "\n",
        "lst = [1,2,3,4,5,6]\n",
        "print(max_list(lst))"
      ]
    },
    {
      "cell_type": "code",
      "source": [
        "# *args & **kwargs\n",
        "\n",
        "def super_func(*num):   # * parameter can hold any number of positional arguments\n",
        "  print(num)\n",
        "  print(*num)\n",
        "  return sum(num)\n",
        "\n",
        "print(super_func(1,2,3,4,5))"
      ],
      "metadata": {
        "colab": {
          "base_uri": "https://localhost:8080/"
        },
        "id": "i5DFEypJNoaE",
        "outputId": "b017be2b-6965-4a46-fe29-ee0d6e5093e4"
      },
      "execution_count": 8,
      "outputs": [
        {
          "output_type": "stream",
          "name": "stdout",
          "text": [
            "(1, 2, 3, 4, 5)\n",
            "1 2 3 4 5\n",
            "15\n"
          ]
        }
      ]
    },
    {
      "cell_type": "code",
      "source": [
        "def super_func(*num, **n):    # ** parameter can hold any number of keyword arguments\n",
        "  total = 0\n",
        "  for i in n.values():\n",
        "    total += i\n",
        "\n",
        "  return sum(num) + total\n",
        "\n",
        "super_func(1,2,3,num1 = 5, num2 = 10)"
      ],
      "metadata": {
        "colab": {
          "base_uri": "https://localhost:8080/"
        },
        "id": "HJO7ZCgcTP7o",
        "outputId": "cf4f9bc7-aca8-4757-ab81-cf1c593cfd48"
      },
      "execution_count": 23,
      "outputs": [
        {
          "output_type": "execute_result",
          "data": {
            "text/plain": [
              "21"
            ]
          },
          "metadata": {},
          "execution_count": 23
        }
      ]
    },
    {
      "cell_type": "code",
      "source": [
        "# WAP to find the sum of elements of given list\n",
        "\n",
        "item = (2,3,4,5)\n",
        "\n",
        "def sum_finder(item):\n",
        "  total = 0\n",
        "\n",
        "  for i in item:\n",
        "    total += i\n",
        "\n",
        "  print(total)\n",
        "\n",
        "sum_finder(item)"
      ],
      "metadata": {
        "colab": {
          "base_uri": "https://localhost:8080/"
        },
        "id": "fX9oUzfdVBF-",
        "outputId": "09a90369-0abe-4f05-85f2-87e3248f3f87"
      },
      "execution_count": 29,
      "outputs": [
        {
          "output_type": "stream",
          "name": "stdout",
          "text": [
            "14\n"
          ]
        }
      ]
    },
    {
      "cell_type": "code",
      "source": [
        "# Loops in Dictionary\n",
        "\n",
        "my_dict = {'name':'ram','age': 20, 'is_married': True}\n",
        "\n",
        "for item in my_dict.items():\n",
        "  print(item)\n",
        "\n",
        "for item in my_dict.keys():\n",
        "  print(item)\n",
        "\n",
        "for item in my_dict.values():\n",
        "  print(item)\n",
        "\n",
        "for key, value in my_dict.items():\n",
        "  print(key, value)"
      ],
      "metadata": {
        "colab": {
          "base_uri": "https://localhost:8080/"
        },
        "id": "WfeHYGpGPowk",
        "outputId": "2d4d3584-949b-461f-91de-14840c2c89cd"
      },
      "execution_count": 15,
      "outputs": [
        {
          "output_type": "stream",
          "name": "stdout",
          "text": [
            "('name', 'ram')\n",
            "('age', 20)\n",
            "('is_married', True)\n",
            "name\n",
            "age\n",
            "is_married\n",
            "ram\n",
            "20\n",
            "True\n",
            "name ram\n",
            "age 20\n",
            "is_married True\n"
          ]
        }
      ]
    },
    {
      "cell_type": "code",
      "source": [
        "for item in my_dict.items():\n",
        "  a, b = item\n",
        "  print(a,b)"
      ],
      "metadata": {
        "colab": {
          "base_uri": "https://localhost:8080/"
        },
        "id": "O5sq_WTKSijN",
        "outputId": "c94f67d2-1c8f-4bcc-9e3a-f8c63161fc5b"
      },
      "execution_count": 16,
      "outputs": [
        {
          "output_type": "stream",
          "name": "stdout",
          "text": [
            "name ram\n",
            "age 20\n",
            "is_married True\n"
          ]
        }
      ]
    },
    {
      "cell_type": "code",
      "source": [
        "# Enumerate\n",
        "\n",
        "for index, item in enumerate([2,3,4]):\n",
        "  print(index)"
      ],
      "metadata": {
        "colab": {
          "base_uri": "https://localhost:8080/"
        },
        "id": "8HqRdgvJTOP6",
        "outputId": "1833ab09-4ad6-433f-90e1-b2194802180d"
      },
      "execution_count": 31,
      "outputs": [
        {
          "output_type": "stream",
          "name": "stdout",
          "text": [
            "0\n",
            "1\n",
            "2\n"
          ]
        }
      ]
    },
    {
      "cell_type": "code",
      "source": [
        "# Scope : What variable do a function have access to?\n",
        "\n",
        "a = 1\n",
        "\n",
        "def scope():\n",
        "  a = 2\n",
        "  print(a)\n",
        "\n",
        "scope()\n",
        "print(a)"
      ],
      "metadata": {
        "colab": {
          "base_uri": "https://localhost:8080/"
        },
        "id": "yTJqseGeZsXN",
        "outputId": "cd7b9446-b519-4e6e-d5e1-182fa7ae184d"
      },
      "execution_count": 33,
      "outputs": [
        {
          "output_type": "stream",
          "name": "stdout",
          "text": [
            "2\n",
            "1\n"
          ]
        }
      ]
    },
    {
      "cell_type": "code",
      "source": [
        "# Scope : What variable do a function have access to?\n",
        "\n",
        "a = 1\n",
        "\n",
        "def scope():\n",
        "  a = 2\n",
        "  def cope():\n",
        "    b = 2\n",
        "  return cope()\n",
        "\n",
        "scope()\n",
        "print(a)"
      ],
      "metadata": {
        "colab": {
          "base_uri": "https://localhost:8080/"
        },
        "id": "1XA20M1DdfCV",
        "outputId": "5ef1d9d0-29ff-40e5-c44d-6bf761ea3f13"
      },
      "execution_count": 34,
      "outputs": [
        {
          "output_type": "stream",
          "name": "stdout",
          "text": [
            "1\n"
          ]
        }
      ]
    },
    {
      "cell_type": "code",
      "source": [
        "# Return statement\n",
        "\n",
        "def sum(num1, num2):\n",
        "  def another_func(n1, n2):\n",
        "    return n1 + n2\n",
        "  return another_func\n",
        "\n",
        "total = sum(10,25)\n",
        "print(total(10,40))\n"
      ],
      "metadata": {
        "colab": {
          "base_uri": "https://localhost:8080/"
        },
        "id": "BMsoq2BVcp2x",
        "outputId": "c944a82a-1d8d-43f2-a758-208633cb9bc6"
      },
      "execution_count": 38,
      "outputs": [
        {
          "output_type": "stream",
          "name": "stdout",
          "text": [
            "50\n"
          ]
        }
      ]
    },
    {
      "cell_type": "code",
      "source": [
        "# DOC String: String inside a function used to give information is called docstring\n",
        "\n",
        "def calculate_square(num):\n",
        "  ''' This function takes the number and\n",
        "      finds the square '''\n",
        "  return num * num\n",
        "\n",
        "calculate_square\n"
      ],
      "metadata": {
        "colab": {
          "base_uri": "https://localhost:8080/",
          "height": 120
        },
        "id": "N7ZoLgethHuJ",
        "outputId": "94f16e0a-3dd6-4155-e2ec-a05cc078eb5f"
      },
      "execution_count": 41,
      "outputs": [
        {
          "output_type": "execute_result",
          "data": {
            "text/plain": [
              "<function __main__.calculate_square(num)>"
            ],
            "text/html": [
              "<div style=\"max-width:800px; border: 1px solid var(--colab-border-color);\"><style>\n",
              "      pre.function-repr-contents {\n",
              "        overflow-x: auto;\n",
              "        padding: 8px 12px;\n",
              "        max-height: 500px;\n",
              "      }\n",
              "\n",
              "      pre.function-repr-contents.function-repr-contents-collapsed {\n",
              "        cursor: pointer;\n",
              "        max-height: 100px;\n",
              "      }\n",
              "    </style>\n",
              "    <pre style=\"white-space: initial; background:\n",
              "         var(--colab-secondary-surface-color); padding: 8px 12px;\n",
              "         border-bottom: 1px solid var(--colab-border-color);\"><b>calculate_square</b><br/>def calculate_square(num)</pre><pre class=\"function-repr-contents function-repr-contents-collapsed\" style=\"\"><a class=\"filepath\" style=\"display:none\" href=\"#\">/content/&lt;ipython-input-41-f27907d94a26&gt;</a>This function takes the number and \n",
              "finds the square </pre></div>"
            ]
          },
          "metadata": {},
          "execution_count": 41
        }
      ]
    }
  ]
}