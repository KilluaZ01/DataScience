{
  "nbformat": 4,
  "nbformat_minor": 0,
  "metadata": {
    "colab": {
      "provenance": []
    },
    "kernelspec": {
      "name": "python3",
      "display_name": "Python 3"
    },
    "language_info": {
      "name": "python"
    }
  },
  "cells": [
    {
      "cell_type": "code",
      "execution_count": null,
      "metadata": {
        "colab": {
          "base_uri": "https://localhost:8080/"
        },
        "id": "rijYwTYsWP7Z",
        "outputId": "ac669eb1-c91b-4a89-e48c-3bd256f27367"
      },
      "outputs": [
        {
          "output_type": "stream",
          "name": "stdout",
          "text": [
            "7\n"
          ]
        }
      ],
      "source": [
        "count = 0\n",
        "\n",
        "def counter(coun):\n",
        "  coun += 1\n",
        "  return coun\n",
        "\n",
        "count = counter(count)\n",
        "count = counter(count)\n",
        "count = counter(count)\n",
        "count = counter(count)\n",
        "count = counter(count)\n",
        "count = counter(count)\n",
        "count = counter(count)\n",
        "\n",
        "print(count)"
      ]
    },
    {
      "cell_type": "code",
      "source": [
        "print(counter(counter(counter(count))))"
      ],
      "metadata": {
        "colab": {
          "base_uri": "https://localhost:8080/"
        },
        "id": "pI3iA9wDXE9R",
        "outputId": "e841b5fb-4775-4554-a7aa-98aff7d78337"
      },
      "execution_count": null,
      "outputs": [
        {
          "output_type": "stream",
          "name": "stdout",
          "text": [
            "10\n"
          ]
        }
      ]
    },
    {
      "cell_type": "code",
      "source": [
        "count = 0\n",
        "def counter():\n",
        "  global count    # Keyword to update global variable from local scope\n",
        "  count += 1\n",
        "  print(count)\n",
        "\n",
        "counter()\n",
        "counter()\n",
        "counter()"
      ],
      "metadata": {
        "colab": {
          "base_uri": "https://localhost:8080/"
        },
        "id": "vmwyOJl-YiqX",
        "outputId": "9a718e8b-d7f0-440b-f309-ae5d5936c3fa"
      },
      "execution_count": null,
      "outputs": [
        {
          "output_type": "stream",
          "name": "stdout",
          "text": [
            "1\n",
            "2\n",
            "3\n"
          ]
        }
      ]
    },
    {
      "cell_type": "code",
      "source": [
        "# Non Local\n",
        "x = 'This is global of x'\n",
        "\n",
        "def outer():\n",
        "  x = 'This is the outer value of x'\n",
        "\n",
        "  def inner():\n",
        "`    x = 'This is the inner value of x'\n",
        "\n",
        "    def inner_inner():\n",
        "      nonlocal x        # Changes the local x to parent x\n",
        "      x = 'This is the inner inner value of x'\n",
        "      print('Inner inner:', x)\n",
        "\n",
        "    inner_inner()\n",
        "    print('Inner:', x)\n",
        "\n",
        "  inner()\n",
        "  print('Outer:', x)\n",
        "\n",
        "outer()\n",
        "print(x)\n"
      ],
      "metadata": {
        "colab": {
          "base_uri": "https://localhost:8080/"
        },
        "id": "0mNHmiMHYxLQ",
        "outputId": "f31f760a-67fe-4526-f635-d7d1d496c7c1"
      },
      "execution_count": null,
      "outputs": [
        {
          "output_type": "stream",
          "name": "stdout",
          "text": [
            "Inner inner: This is the inner inner value of x\n",
            "Inner: This is the inner inner value of x\n",
            "Outer: This is the outer value of x\n",
            "This is global of x\n"
          ]
        }
      ]
    },
    {
      "cell_type": "code",
      "source": [
        "# WAP to make a function named emoji converter, that takes the parameter, use split method to break the sentence into words\n",
        "# Define a dictionary for happy and sad emoji\n",
        "\n",
        "emojis = {'happy': \"😀\", 'sad': '🥲'}\n",
        "user_input = input(\"How are you feeling right now? \")\n",
        "\n",
        "def emoji_converter(user_input):\n",
        "  user_emoji = user_input[5:]\n",
        "  output = 'I am '\n",
        "\n",
        "  for i in user_emoji:\n",
        "    output += emojis.get(user_emoji)\n",
        "    break\n",
        "\n",
        "  print(output)\n",
        "\n",
        "emoji_converter(user_input)"
      ],
      "metadata": {
        "colab": {
          "base_uri": "https://localhost:8080/"
        },
        "id": "FDLEheeOe6yr",
        "outputId": "b8ebd083-4b42-442b-8bda-c16a45c76799"
      },
      "execution_count": null,
      "outputs": [
        {
          "output_type": "stream",
          "name": "stdout",
          "text": [
            "how are you feeling right now?I am happy\n",
            "I am 😀\n"
          ]
        }
      ]
    },
    {
      "cell_type": "code",
      "source": [
        "# WAP to make a function named emoji converter, that takes the parameter, use split method to break the sentence into words\n",
        "# Define a dictionary for happy and sad emoji\n",
        "\n",
        "emojis = {'happy': '😀', 'sad': '🥲'}\n",
        "user_input = input(\"How are you feeling right now? \")\n",
        "\n",
        "def emoji_converter(user_input):\n",
        "  words = user_input.split()\n",
        "\n",
        "  output = ''\n",
        "  for word in words:\n",
        "    if emojis.get(word.lower()):\n",
        "      output += word + ' ' + emojis.get(word.lower(), word)\n",
        "    else:\n",
        "      output += word + ' '\n",
        "\n",
        "  print(output)\n",
        "\n",
        "emoji_converter(user_input)"
      ],
      "metadata": {
        "colab": {
          "base_uri": "https://localhost:8080/"
        },
        "id": "Z_-JrTOCiFHz",
        "outputId": "6505f3a4-21f8-4515-8215-4a25c1258ae9"
      },
      "execution_count": null,
      "outputs": [
        {
          "output_type": "stream",
          "name": "stdout",
          "text": [
            "How are you feeling right now? I am Happy\n",
            "I am Happy 😀\n"
          ]
        }
      ]
    },
    {
      "cell_type": "code",
      "source": [
        "# WAP to make a function named emoji converter, that takes the parameter, use split method to break the sentence into words\n",
        "# Define a dictionary for happy and sad emoji\n",
        "\n",
        "emojis = {'happy': '😀', 'sad': '🥲'}\n",
        "user_input = input(\"How are you feeling right now? \")\n",
        "\n",
        "def emoji_converter(user_input):\n",
        "  words = user_input.split()\n",
        "\n",
        "  output = ''\n",
        "  for word in words:\n",
        "    if emojis.get(word.lower()):\n",
        "      output += emojis.get(word.lower(), word).capitalize() + ' '\n",
        "    else:\n",
        "      output += word + ' '\n",
        "\n",
        "  print(output)\n",
        "\n",
        "emoji_converter(user_input)\n"
      ],
      "metadata": {
        "colab": {
          "base_uri": "https://localhost:8080/"
        },
        "id": "9tknbdteoBCn",
        "outputId": "d0d5f1b4-bb3c-4dd6-bd9c-20b92becd700"
      },
      "execution_count": null,
      "outputs": [
        {
          "output_type": "stream",
          "name": "stdout",
          "text": [
            "How are you feeling right now? I am Happy\n",
            "I am 😀 \n"
          ]
        }
      ]
    },
    {
      "cell_type": "code",
      "source": [
        "# WAP to make a function named emoji converter, that takes the parameter, use split method to break the sentence into words\n",
        "# Define a dictionary for happy and sad emoji\n",
        "\n",
        "emojis = {'happy': '😀', 'sad': '🥲'}\n",
        "user_input = input(\"How are you feeling right now? \")\n",
        "\n",
        "def emoji_converter(user_input):\n",
        "  words = user_input.split()\n",
        "\n",
        "  output = ''\n",
        "  for word in words:\n",
        "    if word == ':)':\n",
        "      word = 'happy'\n",
        "    elif word == ':(':\n",
        "      word = 'sad'\n",
        "\n",
        "    output += emojis.get(word.lower(), word) + ' '\n",
        "\n",
        "  print(output)\n",
        "\n",
        "emoji_converter(user_input)"
      ],
      "metadata": {
        "id": "pPP051femTeO"
      },
      "execution_count": null,
      "outputs": []
    },
    {
      "cell_type": "code",
      "source": [
        "# Functional Programming (map, filter, zip and reduce)\n",
        "\n",
        "def multiply_by_2(num):\n",
        "  return num * 2\n",
        "\n",
        "print(multiply_by_2(5))"
      ],
      "metadata": {
        "colab": {
          "base_uri": "https://localhost:8080/"
        },
        "id": "eZihQddppuOI",
        "outputId": "f8aaaaac-e534-4ec3-def6-ad9c0710d312"
      },
      "execution_count": null,
      "outputs": [
        {
          "output_type": "stream",
          "name": "stdout",
          "text": [
            "10\n"
          ]
        }
      ]
    },
    {
      "cell_type": "code",
      "source": [
        "def multiply_by_2(lst):\n",
        "  new_list = []\n",
        "\n",
        "  for i in lst:\n",
        "    new_list.append(i*2)\n",
        "\n",
        "  return new_list\n",
        "\n",
        "lst = [2,3,4,5]\n",
        "print(multiply_by_2(lst))"
      ],
      "metadata": {
        "colab": {
          "base_uri": "https://localhost:8080/"
        },
        "id": "206NaFUxqG8K",
        "outputId": "98abe5e5-9f97-408f-9cfe-cc5d0634e61b"
      },
      "execution_count": null,
      "outputs": [
        {
          "output_type": "stream",
          "name": "stdout",
          "text": [
            "[4, 6, 8, 10]\n"
          ]
        }
      ]
    },
    {
      "cell_type": "code",
      "source": [
        "def multiply_by_2(num,num2):\n",
        "  return num*2*num2\n",
        "\n",
        "print(list(map(multiply_by_2,[2,3,4,5],[2,3,4])))"
      ],
      "metadata": {
        "colab": {
          "base_uri": "https://localhost:8080/"
        },
        "id": "0qHnH4XSsEn8",
        "outputId": "9473ef16-6bdd-401a-ab34-83d9b1fbd67c"
      },
      "execution_count": null,
      "outputs": [
        {
          "output_type": "stream",
          "name": "stdout",
          "text": [
            "[8, 18, 32]\n"
          ]
        }
      ]
    }
  ]
}