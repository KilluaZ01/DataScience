{
  "nbformat": 4,
  "nbformat_minor": 0,
  "metadata": {
    "colab": {
      "provenance": [],
      "authorship_tag": "ABX9TyNyi54247CoFmW6/u59WHSE",
      "include_colab_link": true
    },
    "kernelspec": {
      "name": "python3",
      "display_name": "Python 3"
    },
    "language_info": {
      "name": "python"
    }
  },
  "cells": [
    {
      "cell_type": "markdown",
      "metadata": {
        "id": "view-in-github",
        "colab_type": "text"
      },
      "source": [
        "<a href=\"https://colab.research.google.com/github/KilluaZ01/DataScience/blob/main/PythonRevisionII.ipynb\" target=\"_parent\"><img src=\"https://colab.research.google.com/assets/colab-badge.svg\" alt=\"Open In Colab\"/></a>"
      ]
    },
    {
      "cell_type": "code",
      "execution_count": null,
      "metadata": {
        "id": "9t3h8Q24GUmk"
      },
      "outputs": [],
      "source": [
        "import pandas as pd\n",
        "import numpy as np\n",
        "import matplotlib.pyplot as plt"
      ]
    },
    {
      "cell_type": "code",
      "source": [
        "from sklearn.datasets import load_iris"
      ],
      "metadata": {
        "id": "oN0DuplwNoy2"
      },
      "execution_count": null,
      "outputs": []
    },
    {
      "cell_type": "code",
      "source": [
        "data = load_iris()\n",
        "X = data.data\n",
        "y = data.target\n",
        "\n",
        "from sklearn.model_selection import train_test_split\n",
        "X_train, X_test, y_train, y_test = train_test_split(X, y, test_size= 0.2)\n",
        "\n",
        "from sklearn.tree import DecisionTreeClassifier\n",
        "model = DecisionTreeClassifier()\n",
        "model.fit(X_train, y_train)\n",
        "\n",
        "prediction = model.predict(X_test)\n",
        "\n",
        "from sklearn.metrics import accuracy_score\n",
        "score = accuracy_score(prediction, y_test)\n",
        "\n",
        "print(score)"
      ],
      "metadata": {
        "colab": {
          "base_uri": "https://localhost:8080/"
        },
        "id": "al0QU-BgOSyy",
        "outputId": "8df8b694-2ff5-4ae2-a159-b258879d5f76"
      },
      "execution_count": null,
      "outputs": [
        {
          "output_type": "stream",
          "name": "stdout",
          "text": [
            "0.9333333333333333\n"
          ]
        }
      ]
    },
    {
      "cell_type": "code",
      "source": [
        "value = model.predict([[12,12,12,12]])\n",
        "print(data.target_names[value])"
      ],
      "metadata": {
        "colab": {
          "base_uri": "https://localhost:8080/"
        },
        "id": "-_Y6QT9mPLYU",
        "outputId": "3e8a57ee-bfd3-434f-cdd5-dc6fdf15f1f7"
      },
      "execution_count": null,
      "outputs": [
        {
          "output_type": "stream",
          "name": "stdout",
          "text": [
            "['virginica']\n"
          ]
        }
      ]
    },
    {
      "cell_type": "code",
      "source": [
        "'''\n",
        "WAP using parameters that takes birth_year as arguments, and finds the risk, which is 50/age.. also perform the exception handling and the program\n",
        "should take the input 5 times once the function is called, if the user calculates the risk as 1, the program should immediately stop, otherwise\n",
        "should run 5 times.\n",
        "'''\n",
        "def riskCalculator(birthYear):\n",
        "  age = 2025 - birthYear\n",
        "  i = 0\n",
        "  while i < 5:\n",
        "    risk = 50/ age\n",
        "    i += 1\n",
        "    return risk\n",
        "\n",
        "j = 0\n",
        "while j < 5:\n",
        "  j += 1\n",
        "  try:\n",
        "    birthYear = int(input(\"Enter your birth year: \"))\n",
        "    risk = riskCalculator(birthYear)\n",
        "    if risk == 1:\n",
        "      print(\"You are at risk\")\n",
        "      break\n",
        "    else:\n",
        "      print(\"You are not at risk\")\n",
        "    print(risk)\n",
        "  except ValueError:\n",
        "    print(\"Enter a Integer not String Dumbass\")\n",
        "  except ZeroDivisionError:\n",
        "    print(\"Are you dumb\")"
      ],
      "metadata": {
        "id": "NSjUPxWMznkM",
        "colab": {
          "base_uri": "https://localhost:8080/"
        },
        "outputId": "4fbc04c5-b8ca-41b1-8f53-6a1a6e769d7c"
      },
      "execution_count": 8,
      "outputs": [
        {
          "output_type": "stream",
          "name": "stdout",
          "text": [
            "Enter your birth year1975\n",
            "You are at risk\n"
          ]
        }
      ]
    },
    {
      "cell_type": "code",
      "source": [
        "'''\n",
        "Exercise: Replace list's item with new value if found\n",
        "You have given a Python List. Write a program to find value 20 in the list and if it is present, replace it with 200.\n",
        "Only update the first occurence of an item.\n",
        "'''\n",
        "\n",
        "list_given = [1, 2, 3, 4, 20, 20]\n",
        "\n",
        "for i,v in enumerate(list_given):\n",
        "  if v == 20:\n",
        "    list_given[i] = 200\n",
        "    break\n",
        "\n",
        "print(list_given)"
      ],
      "metadata": {
        "colab": {
          "base_uri": "https://localhost:8080/"
        },
        "id": "FODTE5wqHKTe",
        "outputId": "e9b458f6-0287-491a-af60-d5c12c8e3c39"
      },
      "execution_count": 11,
      "outputs": [
        {
          "output_type": "stream",
          "name": "stdout",
          "text": [
            "[1, 2, 3, 4, 200, 20]\n"
          ]
        }
      ]
    },
    {
      "cell_type": "code",
      "source": [
        "'''\n",
        "Excercise: Remove all ooccurances of a specific item from a list.\n",
        "Given a Python list,WAP to remove all occurances of item 20.\n",
        "'''\n",
        "\n",
        "list_remover = [1,2,3,20,4,20]\n",
        "\n",
        "for i in list_remover:\n",
        "  if i == 20:\n",
        "    list_remover.remove(i)\n",
        "\n",
        "print(list_remover)"
      ],
      "metadata": {
        "colab": {
          "base_uri": "https://localhost:8080/"
        },
        "id": "hocU69DzJrbV",
        "outputId": "c8933449-0835-4fcc-a654-30321eedcf34"
      },
      "execution_count": 15,
      "outputs": [
        {
          "output_type": "stream",
          "name": "stdout",
          "text": [
            "[1, 2, 3, 4]\n"
          ]
        }
      ]
    },
    {
      "cell_type": "code",
      "source": [
        "# Exercise:Display numbers from -10 to -1 using for loop\n",
        "\n",
        "for k in range(-10, 0, 1):\n",
        "  print(k)"
      ],
      "metadata": {
        "colab": {
          "base_uri": "https://localhost:8080/"
        },
        "id": "4vpGgRBoP9O1",
        "outputId": "21cd0700-36d9-4a81-ef2c-ca50a7e89354"
      },
      "execution_count": 26,
      "outputs": [
        {
          "output_type": "stream",
          "name": "stdout",
          "text": [
            "-10\n",
            "-9\n",
            "-8\n",
            "-7\n",
            "-6\n",
            "-5\n",
            "-4\n",
            "-3\n",
            "-2\n",
            "-1\n"
          ]
        }
      ]
    },
    {
      "cell_type": "code",
      "source": [
        "'''\n",
        "Print the following pattern:\n",
        "WAP to print the following start pattern using for loop\n",
        "                                *\n",
        "                                **\n",
        "                                ***\n",
        "                                ****\n",
        "                                *****\n",
        "                                ****\n",
        "                                ***\n",
        "                                **\n",
        "                                *\n",
        "'''\n",
        "\n",
        "for i in range(1,6):\n",
        "  print(i * '*')\n",
        "for i in range(4,0,-1):\n",
        "  print(i * '*')"
      ],
      "metadata": {
        "colab": {
          "base_uri": "https://localhost:8080/"
        },
        "id": "devMHoGKUhmh",
        "outputId": "3d53f87d-6a7b-433d-ec64-2ca783bc47d4"
      },
      "execution_count": 30,
      "outputs": [
        {
          "output_type": "stream",
          "name": "stdout",
          "text": [
            "*\n",
            "**\n",
            "***\n",
            "****\n",
            "*****\n",
            "****\n",
            "***\n",
            "**\n",
            "*\n"
          ]
        }
      ]
    },
    {
      "cell_type": "code",
      "source": [
        "list1 = [\"M\",\"na\",\"i\",\"Ke\"]\n",
        "list2 = [\"y\",\"me\",\"s\",\"lly\"]\n",
        "\n",
        "list3 = [list1[i] + list2[i] for i in range(len(list1))]\n",
        "print(list3)"
      ],
      "metadata": {
        "colab": {
          "base_uri": "https://localhost:8080/"
        },
        "id": "5w61QFFQU88u",
        "outputId": "e52990f5-3f42-4ddf-c7f8-cc29fa0e267f"
      },
      "execution_count": 38,
      "outputs": [
        {
          "output_type": "stream",
          "name": "stdout",
          "text": [
            "['My', 'name', 'is', 'Kelly']\n"
          ]
        }
      ]
    },
    {
      "cell_type": "code",
      "source": [
        "print([i for i in '123string'])"
      ],
      "metadata": {
        "colab": {
          "base_uri": "https://localhost:8080/"
        },
        "id": "c9x1B6W2VdbJ",
        "outputId": "ced76507-6219-4dad-bab4-7d692cdafe21"
      },
      "execution_count": 42,
      "outputs": [
        {
          "output_type": "stream",
          "name": "stdout",
          "text": [
            "['1', '2', '3', 's', 't', 'r', 'i', 'n', 'g']\n"
          ]
        }
      ]
    }
  ]
}