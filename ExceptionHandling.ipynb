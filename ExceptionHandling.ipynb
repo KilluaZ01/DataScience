{
  "nbformat": 4,
  "nbformat_minor": 0,
  "metadata": {
    "colab": {
      "provenance": []
    },
    "kernelspec": {
      "name": "python3",
      "display_name": "Python 3"
    },
    "language_info": {
      "name": "python"
    }
  },
  "cells": [
    {
      "cell_type": "code",
      "execution_count": 22,
      "metadata": {
        "colab": {
          "base_uri": "https://localhost:8080/"
        },
        "id": "YeZSCA3RwAF4",
        "outputId": "4c31bab2-a84e-40bd-abcb-e999ae35a787"
      },
      "outputs": [
        {
          "output_type": "stream",
          "name": "stdout",
          "text": [
            "1\n",
            "2\n"
          ]
        }
      ],
      "source": [
        "for item in [1,2,3,4]:\n",
        "  print(item)\n",
        "  if item == 2:\n",
        "    break\n",
        "else:   # Else would be printed only if the break wont execute\n",
        "  print(20)"
      ]
    },
    {
      "cell_type": "code",
      "source": [
        "for item in [1,2,3,4]:\n",
        "  print(item)\n",
        "  if item == 2:\n",
        "    break\n",
        "print(20)"
      ],
      "metadata": {
        "colab": {
          "base_uri": "https://localhost:8080/"
        },
        "id": "J7NUjb5rwtEL",
        "outputId": "b47f1e70-7267-4c6b-a42a-df5a4389a5bd"
      },
      "execution_count": 4,
      "outputs": [
        {
          "output_type": "stream",
          "name": "stdout",
          "text": [
            "1\n",
            "2\n",
            "20\n"
          ]
        }
      ]
    },
    {
      "cell_type": "code",
      "source": [
        "# Guessing Game\n",
        "i = 0\n",
        "\n",
        "while i < 3:\n",
        "  guess = 4\n",
        "  user_input = int(input('Guess the number between 0 - 9: '))\n",
        "\n",
        "\n",
        "  if user_input != guess and i == 2:\n",
        "    print('You Failed')\n",
        "    break\n",
        "\n",
        "  elif user_input != guess:\n",
        "    print('Try Again')\n",
        "\n",
        "  else:\n",
        "    print('You Won')\n",
        "    break\n",
        "\n",
        "  i += 1\n",
        "\n",
        "else:\n",
        "  print('You Failed')"
      ],
      "metadata": {
        "colab": {
          "base_uri": "https://localhost:8080/"
        },
        "id": "auSUbrAFxFwB",
        "outputId": "98e01c6a-af16-4e55-a8ea-816d46754c23"
      },
      "execution_count": 38,
      "outputs": [
        {
          "output_type": "stream",
          "name": "stdout",
          "text": [
            "Guess the number between 0 - 9: 1\n",
            "Try Again\n",
            "Guess the number between 0 - 9: 2\n",
            "Try Again\n",
            "Guess the number between 0 - 9: 3\n",
            "You Failed\n"
          ]
        }
      ]
    },
    {
      "cell_type": "code",
      "source": [
        "# Guessing Game\n",
        "guess_count = 1\n",
        "guess = 4\n",
        "guess_limit = 3\n",
        "\n",
        "while guess_count <= guess_limit:\n",
        "  user_input = int(input('Guess the number between 0 - 9: '))\n",
        "\n",
        "  if user_input == guess:\n",
        "    print('You Won')\n",
        "    break\n",
        "\n",
        "  else:\n",
        "    if guess_count != guess_limit:\n",
        "      print('Try Again')\n",
        "\n",
        "  guess_count += 1\n",
        "\n",
        "else:\n",
        "  print('Sorry you Failed')"
      ],
      "metadata": {
        "colab": {
          "base_uri": "https://localhost:8080/"
        },
        "id": "5GfRB95h2NqB",
        "outputId": "b499feea-791d-47e1-d181-1520e0f17d40"
      },
      "execution_count": 55,
      "outputs": [
        {
          "output_type": "stream",
          "name": "stdout",
          "text": [
            "Guess the number between 0 - 9: 1\n",
            "Try Again\n",
            "Guess the number between 0 - 9: 3\n",
            "Try Again\n",
            "Guess the number between 0 - 9: 4\n",
            "You Won\n"
          ]
        }
      ]
    },
    {
      "cell_type": "code",
      "source": [
        "# Guessing Game\n",
        "guess = \"4\"\n",
        "guess_limit = 3\n",
        "\n",
        "for i in range(guess_limit):\n",
        "  user_input = input('Guess the number between 0 - 9: ')\n",
        "\n",
        "  if user_input == guess:\n",
        "    print('You Won')\n",
        "    break\n",
        "\n",
        "  else:\n",
        "    if i != guess_limit-1:\n",
        "      print('Try Again')\n",
        "\n",
        "else:\n",
        "  print('Sorry you Failed')"
      ],
      "metadata": {
        "colab": {
          "base_uri": "https://localhost:8080/"
        },
        "id": "pFgBS-5v6V8_",
        "outputId": "0aa93e4d-eb4a-404b-e701-758b6e9e6abb"
      },
      "execution_count": 58,
      "outputs": [
        {
          "output_type": "stream",
          "name": "stdout",
          "text": [
            "Guess the number between 0 - 9: \n",
            "Try Again\n",
            "Guess the number between 0 - 9: 2\n",
            "Try Again\n",
            "Guess the number between 0 - 9: 5\n",
            "Sorry you Failed\n"
          ]
        }
      ]
    },
    {
      "cell_type": "code",
      "source": [
        "# Continue Keyword\n",
        "\n",
        "i = 0\n",
        "while i < 3:\n",
        "  person_name = input('Enter a name of the person').lower()\n",
        "\n",
        "  if person_name == \"ram\":\n",
        "    print('Might be a suspect, Investigate him')\n",
        "    continue\n",
        "  print('lets check his surname')\n",
        "\n",
        "  person_surname = input('Enter a surname of the person').lower()\n",
        "\n",
        "  if person_surname == 'kc':\n",
        "    print('Might be a suspect, Surname matched')\n",
        "  i += 1"
      ],
      "metadata": {
        "colab": {
          "base_uri": "https://localhost:8080/"
        },
        "id": "k6Bcug0V9x48",
        "outputId": "74e3f8f1-a482-43a5-b3ce-44b932873c83"
      },
      "execution_count": 60,
      "outputs": [
        {
          "name": "stdout",
          "output_type": "stream",
          "text": [
            "Enter a name of the personRam\n",
            "Might be a suspect, Investigate him\n",
            "Enter a name of the personram\n",
            "Might be a suspect, Investigate him\n",
            "Enter a name of the personram\n",
            "Might be a suspect, Investigate him\n",
            "Enter a name of the personram\n",
            "Might be a suspect, Investigate him\n",
            "Enter a name of the personram\n",
            "Might be a suspect, Investigate him\n",
            "Enter a name of the personram\n",
            "Might be a suspect, Investigate him\n",
            "Enter a name of the personsadad\n",
            "lets check his surname\n",
            "Enter a surname of the personsdasd\n",
            "Enter a name of the personsdasd\n",
            "lets check his surname\n",
            "Enter a surname of the personasd\n",
            "Enter a name of the personsdasd\n",
            "lets check his surname\n",
            "Enter a surname of the persondasda\n"
          ]
        }
      ]
    },
    {
      "cell_type": "code",
      "source": [
        "while True:\n",
        "  name = input('What is your name?')\n",
        "\n",
        "  if name == 'ram':\n",
        "    print('I know you.')\n",
        "    continue\n",
        "\n",
        "  print('What is your name?')\n",
        "  print('Where are you from?')\n",
        "  break"
      ],
      "metadata": {
        "colab": {
          "base_uri": "https://localhost:8080/"
        },
        "id": "1lOwR-x8ACgg",
        "outputId": "8a0b0b5c-17ec-4d55-ee4e-65c0332102f2"
      },
      "execution_count": 66,
      "outputs": [
        {
          "output_type": "stream",
          "name": "stdout",
          "text": [
            "What is you nameram\n",
            "I know you\n",
            "What is you nameram\n",
            "I know you\n",
            "What is you namehello\n",
            "What is your name?\n",
            "Where are you from?\n"
          ]
        }
      ]
    },
    {
      "cell_type": "code",
      "source": [
        "# Exception Handling\n",
        "while True:\n",
        "  try:\n",
        "    birth_year = int(input('What is your birth year? '))\n",
        "    age = 2025 - birth_year\n",
        "    risk = 100 / age\n",
        "    print(f'Your risk is: {risk}')\n",
        "    break\n",
        "\n",
        "  except ValueError:\n",
        "    print('Enter a valid input (not a number)')\n",
        "    continue\n",
        "\n",
        "  except ZeroDivisionError:\n",
        "    print('Enter a valid input (number not divisible by zero)')\n",
        "    continue"
      ],
      "metadata": {
        "colab": {
          "base_uri": "https://localhost:8080/"
        },
        "id": "CjGaL9lBDG4i",
        "outputId": "13ad2e35-77ae-4164-f66d-2110bd86128b"
      },
      "execution_count": 1,
      "outputs": [
        {
          "output_type": "stream",
          "name": "stdout",
          "text": [
            "What is your birth year? 2025\n",
            "Enter a valid input (number not divisible by zero)\n",
            "What is your birth year? asdas\n",
            "Enter a valid input (not a number)\n",
            "What is your birth year? 2003\n",
            "Your risk is: 4.545454545454546\n"
          ]
        }
      ]
    }
  ]
}